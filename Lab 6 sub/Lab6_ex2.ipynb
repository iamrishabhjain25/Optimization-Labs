{
  "nbformat": 4,
  "nbformat_minor": 0,
  "metadata": {
    "colab": {
      "name": "20i190008_IE507_Lab6_ex2.ipynb",
      "provenance": [],
      "collapsed_sections": [
        "O2THiBtw_VWn",
        "qz_a7nWi9xGf",
        "Ui7qUTEu_U3e",
        "_UGKDwOPI8yS"
      ]
    },
    "kernelspec": {
      "name": "python3",
      "display_name": "Python 3"
    }
  },
  "cells": [
    {
      "cell_type": "markdown",
      "metadata": {
        "id": "O2THiBtw_VWn",
        "colab_type": "text"
      },
      "source": [
        "# **Installing packages and importing libraries**"
      ]
    },
    {
      "cell_type": "code",
      "metadata": {
        "id": "P-Gtr9UN7JxB",
        "colab_type": "code",
        "colab": {}
      },
      "source": [
        "\n",
        "!pip install -q pyomo\n",
        "from pyomo.environ import *\n",
        "import numpy as np\n",
        "import pandas as pd\n",
        "\n",
        "!apt-get install -y -qq glpk-utils\n",
        "\n",
        "!apt-get install -y -qq coinor-cbc\n",
        "\n"
      ],
      "execution_count": 1,
      "outputs": []
    },
    {
      "cell_type": "markdown",
      "metadata": {
        "id": "osvGHtC7GRln",
        "colab_type": "text"
      },
      "source": [
        "# **Ex2: Part 1 to 6** - *Problem Fomulation, Model, and Solver without the approaches and also with Approach 1 and Approach 2.*\n",
        "\n",
        "\n",
        "\n",
        "\\begin{align}\n",
        "\\max \\ 35 x_1 + 57 x_2 + 48 x_3 + 20 x_4 + 15 x_5, \\\\\n",
        "{\\rm{s.t.}} \\; x_1 + x_2 + x_3 & \\leq 75, \\\\\n",
        "x_3 + x_4 + x_5 & \\leq 100, \\\\\n",
        "-x_1 - x_2 & \\leq -10, \\\\ \n",
        "30000 x_1 + 95000 x_2 + 10000 x_3 + 5000 x_4 + 4000 x_5 & \\leq 1500000, \\\\\n",
        "-100000 x_1 - 500000 x_2 - 200000 x_3 - 45000 x_4 - 25000 x_5 & \\leq -900000, \\\\\n",
        "x_i & \\geq 0, \\quad i \\in \\{1,2,3,4,5\\}. \\\\\n",
        "\\end{align}\n",
        "---"
      ]
    },
    {
      "cell_type": "markdown",
      "metadata": {
        "id": "qz_a7nWi9xGf",
        "colab_type": "text"
      },
      "source": [
        "# ***Without using any approach.***\n",
        "\n",
        "Our problem to be solved :\n",
        "\n",
        "\n",
        "This is not a linear programming problem but in can be converted to one by a simple adjustement. Since the adjustment only needs to be done to take care of the non linear constraint, we can simply do that by using the definition of absolute function. |x| <= a can be written as -a <= x <= a.\n",
        "\n",
        "\n",
        " \\begin{array}{l}\n",
        " | ( x_{1} +x_{2}) -( x_{3} +x_{4} +x_{5}) |\\ \\leqslant 18 \\\\ \\\\\n",
        "and\\ adjusting\\ constraints\\ \\\\\n",
        "\\\\\n",
        "( x_{1} +x_{2}) -( x_{3} +x_{4} +x_{5}) \\ \\leqslant 18\\\\\n",
        "( x_{1} +x_{2}) -( x_{3} +x_{4} +x_{5}) \\ \\geqslant \\ -18\\\\\n",
        "\\\\\n",
        "or\\ \\\\\n",
        "( x_{1} +x_{2}) -( x_{3} +x_{4} +x_{5}) \\ \\leqslant \\ 18\\\\\n",
        "( x_{3} +x_{4} +x_{5}) -( x_{1} +x_{2}) \\ \\leqslant \\ 18\n",
        "\\end{array}\n",
        "\n"
      ]
    },
    {
      "cell_type": "code",
      "metadata": {
        "id": "AhJmT-oLGcgL",
        "colab_type": "code",
        "colab": {
          "base_uri": "https://localhost:8080/",
          "height": 249
        },
        "outputId": "b565b555-6718-4b88-d720-c43d461cbfdd"
      },
      "source": [
        "coef = np.array([\n",
        "                 [35,57,48,20,15,0],\n",
        "                 [1,1,1,0,0,75],\n",
        "                 [0,0,1,1,1,100],\n",
        "                 [-1,-1,0,0,0,-10],\n",
        "                 [30000,95000,10000,5000,4000,1500000],\n",
        "                 [-100000,-500000,-200000,-45000,-25000,-900000],\n",
        "                 [1,1,-1,-1,-1,18],\n",
        "                 [-1,-1,1,1,1,18],\n",
        "\n",
        "                 ])\n",
        "\n",
        "N = coef.shape[1]-1\n",
        "M = coef.shape[0]-1\n",
        "\n",
        "col_index = np.arange(N)\n",
        "row_index = np.arange(M)\n",
        "\n",
        "model = ConcreteModel()\n",
        "\n",
        "model.x = Var(col_index, domain = NonNegativeIntegers)\n",
        "model.obj = Objective(expr = summation(coef[0,:-1],model.x) , sense=maximize)\n",
        "model.cons = ConstraintList()\n",
        "\n",
        "for i in row_index:\n",
        "  model.cons.add(summation(coef[i+1,:-1],model.x) <= coef[i+1,-1])\n",
        " \n",
        "\n",
        "cbc = SolverFactory('cbc')\n",
        "result = cbc.solve(model)\n",
        "\n",
        "\n",
        "print('Status :',result.solver.status)\n",
        "print('Termination Condition :',result.solver.termination_condition)\n",
        "print('The optimal vlaue of the objective function is :',model.obj())\n",
        "print('\\n')\n",
        "print('The value of the variables are : ')\n",
        "print('\\n')\n",
        "for i in range(N):\n",
        "  print('[x',i,'] :', model.x[i].value)\n",
        "\n"
      ],
      "execution_count": 2,
      "outputs": [
        {
          "output_type": "stream",
          "text": [
            "Status : ok\n",
            "Termination Condition : optimal\n",
            "The optimal vlaue of the objective function is : 3378.0\n",
            "\n",
            "\n",
            "The value of the variables are : \n",
            "\n",
            "\n",
            "[x 0 ] : 34.0\n",
            "[x 1 ] : 0.0\n",
            "[x 2 ] : 41.0\n",
            "[x 3 ] : 11.0\n",
            "[x 4 ] : 0.0\n"
          ],
          "name": "stdout"
        }
      ]
    },
    {
      "cell_type": "markdown",
      "metadata": {
        "id": "Ui7qUTEu_U3e",
        "colab_type": "text"
      },
      "source": [
        "# ***Using Approach 1.***\n",
        "\n",
        "\n",
        "To get aroung the problem of having a non linear constraint.\n",
        "\n",
        " \\begin{array}{l}\n",
        " Let: \\ \\ \\ \\ \\\n",
        "y\\ =\\ \\ | ( x_{1} +x_{2}) -( x_{3} +x_{4} +x_{5}) |\\ =\\ \\ | x_{1} +x_{2} -x_{3} -x_{4} -x_{5} |\\\\\n",
        "\\\\\n",
        "Also,\\ we\\ will\\ add\\ the\\ following\\ constraints\\\\\n",
        "\\\\\n",
        "y\\geqslant 0\\ \\ \\ \\ \\  y\\leqslant 18\n",
        "\\\\\n",
        "y\\ \\geqslant \\ x_{1} +x_{2} -x_{3} -x_{4} -x_{5} \\ \\ \\ \\ \\ \\ \\ \\ or\\ \\ \\ \\ \\ \\ \\ \\ \\ x_{1} +x_{2} -x_{3} -x_{4} -x_{5} -y\\ \\leqslant 0\\\\\n",
        "y\\ \\geqslant \\ -( x_{1} +x_{2} -x_{3} -x_{4} -x_{5}) \\ \\ \\ \\ \\ \\ \\ \\ \\ \\ or\\ \\ \\ \\ \\ \\ \\ \\ \\ \\ \\ -x_{1} -x_{2} +x_{3} +x_{4} +x_{5} -y\\ \\leqslant 0\n",
        "\\end{array}\n"
      ]
    },
    {
      "cell_type": "code",
      "metadata": {
        "id": "QS71R8XAQqU_",
        "colab_type": "code",
        "colab": {
          "base_uri": "https://localhost:8080/",
          "height": 464
        },
        "outputId": "12ea2b06-d30f-45eb-c1a3-dd2a04f50168"
      },
      "source": [
        "coef_A1 = np.array([\n",
        "                 [35,57,48,20,15,0,0],\n",
        "                 [1,1,1,0,0,0,75],\n",
        "                 [0,0,1,1,1,0,100],\n",
        "                 [-1,-1,0,0,0,0,-10],\n",
        "                 [30000,95000,10000,5000,4000,0,1500000],\n",
        "                 [-100000,-500000,-200000,-45000,-25000,0,-900000],\n",
        "                 [1,1,-1,-1,-1,-1,0],\n",
        "                 [-1,-1,1,1,1,-1,0],\n",
        "\n",
        "                 ])\n",
        "\n",
        "\n",
        "N_A1 = coef_A1.shape[1]-2\n",
        "M_A1 = coef_A1.shape[0]-1\n",
        "\n",
        "col_index_x = np.arange(N_A1)\n",
        "row_index = np.arange(M_A1)\n",
        "\n",
        "model_A1 = ConcreteModel()\n",
        "\n",
        "model_A1.x = Var(col_index_x, domain = NonNegativeIntegers)\n",
        "model_A1.y = Var(domain=NonNegativeIntegers)\n",
        "\n",
        "model_A1.obj = Objective(expr = summation(coef_A1[0,:-2],model_A1.x) , sense=maximize)\n",
        "model_A1.cons = ConstraintList()\n",
        "\n",
        "for i in row_index:\n",
        "  model_A1.cons.add(summation(coef_A1[i+1,:-2],model_A1.x) +(model_A1.y * coef_A1[i+1,-2]) <= coef_A1[i+1,-1])\n",
        " \n",
        "model_A1.y.setub(18)\n",
        "\n",
        "\n",
        "\n",
        "\n",
        "result_A1 = cbc.solve(model_A1)\n",
        "\n",
        "\n",
        "print('Status :',result_A1.solver.status)\n",
        "print('Termination Condition :',result_A1.solver.termination_condition)\n",
        "print('The optimal vlaue of the objective function is :',model_A1.obj())\n",
        "print('\\n')\n",
        "print('The value of the variables are : ')\n",
        "print('\\n')\n",
        "for i in range(N_A1):\n",
        "  print('[x',i,'] :', model_A1.x[i].value)\n",
        "\n",
        "print('[y] :', model_A1.y.value)\n",
        "print('\\n')\n",
        "model_A1.cons.display()"
      ],
      "execution_count": 16,
      "outputs": [
        {
          "output_type": "stream",
          "text": [
            "Status : ok\n",
            "Termination Condition : optimal\n",
            "The optimal vlaue of the objective function is : 3378.0\n",
            "\n",
            "\n",
            "The value of the variables are : \n",
            "\n",
            "\n",
            "[x 0 ] : 34.0\n",
            "[x 1 ] : 0.0\n",
            "[x 2 ] : 41.0\n",
            "[x 3 ] : 11.0\n",
            "[x 4 ] : 0.0\n",
            "[y] : 18.0\n",
            "\n",
            "\n",
            "cons : Size=7\n",
            "    Key : Lower : Body        : Upper\n",
            "      1 :  None :        75.0 :      75.0\n",
            "      2 :  None :        52.0 :     100.0\n",
            "      3 :  None :       -34.0 :     -10.0\n",
            "      4 :  None :   1485000.0 : 1500000.0\n",
            "      5 :  None : -12095000.0 : -900000.0\n",
            "      6 :  None :       -36.0 :       0.0\n",
            "      7 :  None :         0.0 :       0.0\n"
          ],
          "name": "stdout"
        }
      ]
    },
    {
      "cell_type": "markdown",
      "metadata": {
        "id": "BNzLAHtSJUEK",
        "colab_type": "text"
      },
      "source": [
        "**ACTIVE CONSTRAINTS : 1,7**"
      ]
    },
    {
      "cell_type": "markdown",
      "metadata": {
        "id": "_UGKDwOPI8yS",
        "colab_type": "text"
      },
      "source": [
        "#  ***Using Approach 2.***\n",
        "\n",
        "\n",
        "To get aroung the problem of having a non linear constraint.\n",
        "\n",
        " \\begin{array}{l}\n",
        "Let\\ \\\\\n",
        "\\\\\n",
        "\\ \\ \\ \\ \\ \\ \\ \\ \\ \\ \\ \\ \\ \\ | ( x_{1} +x_{2}) -( x_{3} +x_{4} +x_{5}) |\\ =\\ a+b\\\\\n",
        "and\\ \\ \\ \\ \\ \\ \\ ( x_{1} +x_{2}) -( x_{3} +x_{4} +x_{5}) \\ =\\ a-b\\\\\n",
        "\\\\\n",
        "constaints\\ additoinal\\\\\n",
        "a+b\\ \\leqslant 18\\\\\n",
        "a,b\\geqslant 0\\\\\n",
        "\\end{array}\n",
        "\n"
      ]
    },
    {
      "cell_type": "code",
      "metadata": {
        "id": "sISAVL5cJBy7",
        "colab_type": "code",
        "colab": {
          "base_uri": "https://localhost:8080/",
          "height": 482
        },
        "outputId": "9f87f8aa-91e9-4567-9d49-40fd26799fe2"
      },
      "source": [
        "coef_A2 = np.array([\n",
        "                 [35,57,48,20,15,0],\n",
        "                 [1,1,1,0,0,75],\n",
        "                 [0,0,1,1,1,100],\n",
        "                 [-1,-1,0,0,0,-10],\n",
        "                 [30000,95000,10000,5000,4000,1500000],\n",
        "                 [-100000,-500000,-200000,-45000,-25000,-900000],\n",
        "\n",
        "                 ])\n",
        "\n",
        "\n",
        "N_A2 = coef_A2.shape[1]-1\n",
        "M_A2 = coef_A2.shape[0]-1\n",
        "\n",
        "col_index_x = np.arange(N_A2)\n",
        "row_index = np.arange(M_A2)\n",
        "\n",
        "model_A2 = ConcreteModel()\n",
        "\n",
        "model_A2.x = Var(col_index_x, domain = NonNegativeIntegers)\n",
        "model_A2.a = Var(domain=NonNegativeReals)\n",
        "model_A2.b = Var(domain=NonNegativeReals)\n",
        "\n",
        "model_A2.obj = Objective(expr = summation(coef_A2[0,:-1],model_A2.x) , sense=maximize)\n",
        "model_A2.cons = ConstraintList()\n",
        "\n",
        "for i in row_index:\n",
        "  model_A2.cons.add(summation(coef_A2[i+1,:-1],model_A2.x) <= coef_A2[i+1,-1])\n",
        " \n",
        "model_A2.cons.add(model_A2.x[0] + model_A2.x[1] - model_A2.x[2] - model_A2.x[3] - model_A2.x[4] - model_A2.a + model_A2.b == 0) \n",
        "model_A2.cons.add(model_A2.a + model_A2.b <= 18)\n",
        "\n",
        "\n",
        "\n",
        "\n",
        "result_A2 = cbc.solve(model_A2)\n",
        "print('Status :',result_A2.solver.status)\n",
        "print('Termination Condition :',result_A2.solver.termination_condition)\n",
        "print('The optimal vlaue of the objective function is :',model_A2.obj())\n",
        "print('\\n')\n",
        "print('The value of the variables are : ')\n",
        "print('\\n')\n",
        "for i in range(N_A2):\n",
        "  print('[x',i,'] :', model_A2.x[i].value)\n",
        "\n",
        "print('[a] :', model_A2.a.value)\n",
        "print('[b] :', model_A2.b.value)\n",
        "\n",
        "print('\\n')\n",
        "\n",
        "model_A2.cons.display()\n",
        "\n"
      ],
      "execution_count": 17,
      "outputs": [
        {
          "output_type": "stream",
          "text": [
            "Status : ok\n",
            "Termination Condition : optimal\n",
            "The optimal vlaue of the objective function is : 3378.0\n",
            "\n",
            "\n",
            "The value of the variables are : \n",
            "\n",
            "\n",
            "[x 0 ] : 34.0\n",
            "[x 1 ] : 0.0\n",
            "[x 2 ] : 41.0\n",
            "[x 3 ] : 11.0\n",
            "[x 4 ] : 0.0\n",
            "[a] : 0.0\n",
            "[b] : 18.0\n",
            "\n",
            "\n",
            "cons : Size=7\n",
            "    Key : Lower : Body        : Upper\n",
            "      1 :  None :        75.0 :      75.0\n",
            "      2 :  None :        52.0 :     100.0\n",
            "      3 :  None :       -34.0 :     -10.0\n",
            "      4 :  None :   1485000.0 : 1500000.0\n",
            "      5 :  None : -12095000.0 : -900000.0\n",
            "      6 :   0.0 :         0.0 :       0.0\n",
            "      7 :  None :        18.0 :      18.0\n"
          ],
          "name": "stdout"
        }
      ]
    },
    {
      "cell_type": "markdown",
      "metadata": {
        "id": "mjuLx2bLOe0B",
        "colab_type": "text"
      },
      "source": [
        "***Active Constraints : 1,6,7***"
      ]
    },
    {
      "cell_type": "markdown",
      "metadata": {
        "id": "6VT_NsnyPFax",
        "colab_type": "text"
      },
      "source": [
        "# **Ex2: Part 7** - *Adding the new constraint related to z3 in the model.*\n",
        "\n",
        "We are given tha z3 = x4 + x5\n",
        "And we want to add the constraints that |z3 - x3| >= 4 \n",
        "\n",
        "This is not a linear progrma but can be converted to one. To solve the above problem with the the approaches we will make some changes to the formulation of the problem. \n",
        "\n",
        "**For Approach 1 :**\n",
        "\n",
        " \\begin{array}{l}\n",
        "Let\\ \\\\\n",
        "y_{2} \\ =\\ \\ | x_{4} +x_{5} -x_{3} |\\\\\n",
        "Also,\\ we\\ will\\ add\\ the\\ following\\ constraints\\\\\n",
        "\\\\\n",
        "y_{2} \\geqslant 0\\ and\\ y_{2} \\ \\geqslant 4\\\\\n",
        "y_{2} \\ \\geqslant x_{4} +x_{5} -x_{3} \\ \\ \\ \\ \\ \\ \\ \\ or\\ \\ \\ \\ \\ \\ \\ \\ \\ x_{4} +x_{5} -x_{3} -y_{2} \\ \\leqslant 0\\\\\n",
        "y_{2} \\ \\geqslant \\ -( x_{4} +x_{5} -x_{3}) \\ \\ \\ \\ \\ \\ \\ \\ \\ or\\ \\ \\ \\ \\ \\ \\ \\ \\ \\ \\ -x_{4} -x_{5} +x_{3} -y_{2} \\ \\leqslant 0\n",
        "\\end{array}\n",
        "\n",
        "**For Approach 2 :**\n",
        "\n",
        " \\begin{array}{l}\n",
        "Let\\ \\\\\n",
        "\\\\\n",
        "\\ \\ \\ \\ \\ \\ \\ \\ \\ \\ \\ \\ \\ \\ | x_{4} +x_{5} -x_{3} |\\ =\\ a_{2} +b_{2}\\\\\n",
        "and\\ \\ \\ \\ \\ \\ \\ x_{4} +x_{5} -x_{3} =\\ a_{2} -b_{2}\\\\\n",
        "\\\\\n",
        "constaints\\ additoinal\\\\\n",
        "a_{2} +b_{2} \\ \\geqslant 4\\\\\n",
        "a_{2},b_{2}\\geqslant 0\n",
        "\\end{array}\n",
        "\n",
        "By making these changes to the problem we can solve them.\n"
      ]
    }
  ]
}