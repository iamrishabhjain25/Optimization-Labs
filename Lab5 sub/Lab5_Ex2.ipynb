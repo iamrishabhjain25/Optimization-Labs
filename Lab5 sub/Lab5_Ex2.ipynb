{
  "nbformat": 4,
  "nbformat_minor": 0,
  "metadata": {
    "colab": {
      "name": "20i190008_IE507_Lab5_Ex2.ipynb",
      "provenance": [],
      "collapsed_sections": [
        "O2THiBtw_VWn",
        "Jd91sPjye9tc",
        "ENwt1M7fSr3L",
        "PhZgacGiYiHI",
        "AFpM--PubDCB"
      ]
    },
    "kernelspec": {
      "name": "python3",
      "display_name": "Python 3"
    }
  },
  "cells": [
    {
      "cell_type": "markdown",
      "metadata": {
        "id": "O2THiBtw_VWn",
        "colab_type": "text"
      },
      "source": [
        "# **Installing packages and importing libraries**"
      ]
    },
    {
      "cell_type": "code",
      "metadata": {
        "id": "P-Gtr9UN7JxB",
        "colab_type": "code",
        "colab": {}
      },
      "source": [
        "\n",
        "!pip install -q pyomo\n",
        "from pyomo.environ import *\n",
        "import numpy as np\n",
        "import pandas as pd\n",
        "import sys\n",
        "!apt-get install -y -qq coinor-cbc\n",
        "\n"
      ],
      "execution_count": null,
      "outputs": []
    },
    {
      "cell_type": "markdown",
      "metadata": {
        "id": "Jd91sPjye9tc",
        "colab_type": "text"
      },
      "source": [
        "# **Ex2: Part 1 to 8** - *Problem Fomulation, Model, and Solver*\n",
        "\n",
        "`In this problem, we have n different types of factories thtat we want to set up at n different locations such that each location has one factory. To solve this problem, we move ahead as follows :`\n",
        "\n",
        "---\n",
        "`Let i = 1,2,....,n-1,n denote the different type of factories. `\n",
        "\n",
        "`Let j = 1,2,....,n-1,n denote the different type of location.`\n",
        "\n",
        "`Let`\n",
        "\n",
        "\\begin{array}{l} \\\\\n",
        "\\ \\ x_{ij} \\ =\\begin{cases}\n",
        "1 & ,\\ if\\ i^{th} \\ factory\\ is\\ setup\\ at\\ j^{th} \\ location\\\\\n",
        "0 & ,\\ otherwise\n",
        "\\end{cases}\n",
        "\\end{array}\n",
        "\n",
        "\n",
        " \\begin{array}{l}\n",
        "Let\\ C\\ be\\ the\\ n\\times n\\ cost\\ matrix\\ \\ where\\ C_{ij} \\ represents\\ the\\ cost\\ of\\ setting\\ up\\ the\\ i^{th} \\ factory\\ at\\ j^{th} \\ location.\\ Then\\ our\\ mathematical\\ model\\ looks\\ like:\\\\\n",
        "\\\\\n",
        "Min\\ :\\ \\sum ^{n}_{i=1}\\sum ^{n}_{j=1} C_{ij} .x_{ij}\\\\\n",
        "st.\\\\\n",
        "\\\\\n",
        "\\sum ^{n}_{j=1} x_{ij} \\ =\\ 1\\ \\ \\ \\ \\ \\ \\ \\ for\\ every\\ \\ \\ i=1,2....,n-1,n\\ \\\\\n",
        "\\sum ^{n}_{i=1} x_{ij} \\ =\\ 1\\ \\ \\ \\ \\ \\ \\ \\ for\\ every\\ \\ \\ j=1,2....,n-1,n\\\\\n",
        "\\\\\n",
        "the\\ first\\ constraint\\ ensures\\ that\\ each\\ type\\ of\\ factory\\ is\\ setup\\ only\\ at\\ one\\ location\\ \n",
        "and\\ second\\ constraint\\ ensures\\ that\\ each\\ location\\ gets\\ ony\\ one\\ factory.\n",
        "\\end{array}\n",
        "\n",
        "\n"
      ]
    },
    {
      "cell_type": "code",
      "metadata": {
        "id": "N80OPblrBcJj",
        "colab_type": "code",
        "colab": {
          "base_uri": "https://localhost:8080/",
          "height": 360
        },
        "outputId": "1b79383d-0977-4e8a-ac91-14c978c2b6bd"
      },
      "source": [
        "#Cost matrix\n",
        "cost = np.loadtxt('lab5_ex2.txt',delimiter=',',dtype=float)\n",
        "\n",
        "if (cost.shape[0] != cost.shape[1]):\n",
        "  sys.exit('The cost matrix is not a square matrix.')\n",
        "  \n",
        "\n",
        "N = cost.shape[0]\n",
        "index = np.arange(N)\n",
        "\n",
        "model = ConcreteModel()\n",
        "\n",
        "model.x = Var(index,index,domain=NonNegativeIntegers)\n",
        "model.obj= Objective(expr = sum(model.x[i,j] * cost[i,j] for i in index for j in index),sense=minimize)\n",
        "model.cons =ConstraintList()\n",
        "\n",
        "for k in index:\n",
        "  model.cons.add( sum(model.x[k,j] for j in index) == 1)\n",
        "  \n",
        "for k in index:\n",
        "  model.cons.add( sum(model.x[j,k] for j in index) == 1)\n",
        "  \n",
        "  \n",
        "cbc = SolverFactory('cbc')\n",
        "result = cbc.solve(model)\n",
        "\n",
        "print('The cost of setting up the facotories (Optimal solution is : )',model.obj())\n",
        "print('\\n')\n",
        "\n",
        "print('The solution is :')\n",
        "print('\\n')\n",
        "\n",
        "for i in index:\n",
        "  for j in index:\n",
        "    if model.x[i,j].value>0:\n",
        "      print('x[',i,',',j,'] : ', model.x[i,j].value,'     i.e Factory type',i+1,' at the location',j+1)\n",
        "\n",
        "\n",
        "\n"
      ],
      "execution_count": null,
      "outputs": [
        {
          "output_type": "stream",
          "text": [
            "The cost of setting up the facotories (Optimal solution is : ) 198.0\n",
            "\n",
            "\n",
            "The solution is :\n",
            "\n",
            "\n",
            "x[ 0 , 1 ] :  1.0      i.e Factory type 1  at the location 2\n",
            "x[ 1 , 6 ] :  1.0      i.e Factory type 2  at the location 7\n",
            "x[ 2 , 11 ] :  1.0      i.e Factory type 3  at the location 12\n",
            "x[ 3 , 9 ] :  1.0      i.e Factory type 4  at the location 10\n",
            "x[ 4 , 2 ] :  1.0      i.e Factory type 5  at the location 3\n",
            "x[ 5 , 10 ] :  1.0      i.e Factory type 6  at the location 11\n",
            "x[ 6 , 3 ] :  1.0      i.e Factory type 7  at the location 4\n",
            "x[ 7 , 5 ] :  1.0      i.e Factory type 8  at the location 6\n",
            "x[ 8 , 4 ] :  1.0      i.e Factory type 9  at the location 5\n",
            "x[ 9 , 0 ] :  1.0      i.e Factory type 10  at the location 1\n",
            "x[ 10 , 7 ] :  1.0      i.e Factory type 11  at the location 8\n",
            "x[ 11 , 8 ] :  1.0      i.e Factory type 12  at the location 9\n"
          ],
          "name": "stdout"
        }
      ]
    },
    {
      "cell_type": "markdown",
      "metadata": {
        "id": "ENwt1M7fSr3L",
        "colab_type": "text"
      },
      "source": [
        "# **Ex2: Part 9,10** - *Changing the variables to continuous variable and solving again*\n",
        "\n",
        "***Remarks Below***"
      ]
    },
    {
      "cell_type": "code",
      "metadata": {
        "id": "v0qPDoo3TIxU",
        "colab_type": "code",
        "colab": {
          "base_uri": "https://localhost:8080/",
          "height": 360
        },
        "outputId": "3497527e-2ca3-455a-d056-bb2f7366260c"
      },
      "source": [
        "for i in index:\n",
        "  for j in index:\n",
        "    model.x[i,j].domain = NonNegativeReals\n",
        "\n",
        "\n",
        "\n",
        "result = cbc.solve(model)\n",
        "\n",
        "print('The cost of setting up the facotories (Optimal solution is : )',model.obj())\n",
        "print('\\n')\n",
        "\n",
        "print('The solution is :')\n",
        "print('\\n')\n",
        "\n",
        "for i in index:\n",
        "  for j in index:\n",
        "    if model.x[i,j].value>0:\n",
        "      print('x[',i,',',j,'] : ', model.x[i,j].value,'     i.e Factory type',i+1,' at the location',j+1)\n",
        "\n",
        "\n",
        "\n"
      ],
      "execution_count": 28,
      "outputs": [
        {
          "output_type": "stream",
          "text": [
            "The cost of setting up the facotories (Optimal solution is : ) 198.0\n",
            "\n",
            "\n",
            "The solution is :\n",
            "\n",
            "\n",
            "x[ 0 , 1 ] :  1.0      i.e Factory type 1  at the location 2\n",
            "x[ 1 , 6 ] :  1.0      i.e Factory type 2  at the location 7\n",
            "x[ 2 , 11 ] :  1.0      i.e Factory type 3  at the location 12\n",
            "x[ 3 , 9 ] :  1.0      i.e Factory type 4  at the location 10\n",
            "x[ 4 , 2 ] :  1.0      i.e Factory type 5  at the location 3\n",
            "x[ 5 , 10 ] :  1.0      i.e Factory type 6  at the location 11\n",
            "x[ 6 , 3 ] :  1.0      i.e Factory type 7  at the location 4\n",
            "x[ 7 , 5 ] :  1.0      i.e Factory type 8  at the location 6\n",
            "x[ 8 , 4 ] :  1.0      i.e Factory type 9  at the location 5\n",
            "x[ 9 , 0 ] :  1.0      i.e Factory type 10  at the location 1\n",
            "x[ 10 , 7 ] :  1.0      i.e Factory type 11  at the location 8\n",
            "x[ 11 , 8 ] :  1.0      i.e Factory type 12  at the location 9\n"
          ],
          "name": "stdout"
        }
      ]
    },
    {
      "cell_type": "markdown",
      "metadata": {
        "id": "4gctj_xNXc8-",
        "colab_type": "text"
      },
      "source": [
        "***Remarks :  *** \n",
        "\n",
        "Even after changing the domain of the variables to the Positive real number the solution does not change at all. It's exactly same as the above where the domain was positive integers. \n",
        "\n",
        "\n",
        "Reason : The reason for this is that the constraint doesnt let the variable take any value. Because the sum of the rows of variable, as well as the columns of the variables has to be equal to 1. \n"
      ]
    },
    {
      "cell_type": "markdown",
      "metadata": {
        "id": "PhZgacGiYiHI",
        "colab_type": "text"
      },
      "source": [
        "# **Ex2: Part 11** - *Changing the cost to non integer value in contionous case and solving again*\n",
        "\n",
        "In this case we have solved the model again with the new cost matrix named, cost_fractions which now contain non integer cost value as wee. Also we have kept the domain of the variable as Non negative reals.\n",
        "\n",
        "We observe that the cost in this case has risen to 198.45 from 198 in the previous part but the solution remains same. The solution still has integer values. So changing the cost matrix to fractional value changes the optimal cost and not the solution. "
      ]
    },
    {
      "cell_type": "code",
      "metadata": {
        "id": "NDQA9vEqTZX6",
        "colab_type": "code",
        "colab": {
          "base_uri": "https://localhost:8080/",
          "height": 360
        },
        "outputId": "b414e9f3-280e-40b0-fc34-964cbf9024b0"
      },
      "source": [
        "cost_fractions = cost.copy()\n",
        "cost_fractions[0] = [19.25,12.45,18.33,19.14,22.22,21.9,17.34,20.05,16.88,15.66,21.27,24.49]\n",
        "\n",
        "\n",
        "\n",
        "if (cost_fractions.shape[0] != cost.shape[1]):\n",
        "  sys.exit('The cost matrix is not a square matrix.')\n",
        "  \n",
        "\n",
        "N = cost_fractions.shape[0]\n",
        "index = np.arange(N)\n",
        "\n",
        "model = ConcreteModel()\n",
        "\n",
        "model.x = Var(index,index,domain=NonNegativeReals)\n",
        "model.obj= Objective(expr = sum(model.x[i,j] * cost_fractions[i,j] for i in index for j in index),sense=minimize)\n",
        "model.cons =ConstraintList()\n",
        "\n",
        "for k in index:\n",
        "  model.cons.add( sum(model.x[k,j] for j in index) == 1)\n",
        "  \n",
        "for k in index:\n",
        "  model.cons.add( sum(model.x[j,k] for j in index) == 1)\n",
        "  \n",
        "  \n",
        "cbc = SolverFactory('cbc')\n",
        "result = cbc.solve(model)\n",
        "\n",
        "print('The cost of setting up the facotories (Optimal solution is : )',model.obj())\n",
        "print('\\n')\n",
        "\n",
        "print('The solution is :')\n",
        "print('\\n')\n",
        "\n",
        "for i in index:\n",
        "  for j in index:\n",
        "    if model.x[i,j].value>0:\n",
        "      print('x[',i,',',j,'] : ', model.x[i,j].value,'     i.e Factory type',i+1,' at the location',j+1)\n"
      ],
      "execution_count": 36,
      "outputs": [
        {
          "output_type": "stream",
          "text": [
            "The cost of setting up the facotories (Optimal solution is : ) 198.45\n",
            "\n",
            "\n",
            "The solution is :\n",
            "\n",
            "\n",
            "x[ 0 , 1 ] :  1.0      i.e Factory type 1  at the location 2\n",
            "x[ 1 , 6 ] :  1.0      i.e Factory type 2  at the location 7\n",
            "x[ 2 , 11 ] :  1.0      i.e Factory type 3  at the location 12\n",
            "x[ 3 , 9 ] :  1.0      i.e Factory type 4  at the location 10\n",
            "x[ 4 , 2 ] :  1.0      i.e Factory type 5  at the location 3\n",
            "x[ 5 , 10 ] :  1.0      i.e Factory type 6  at the location 11\n",
            "x[ 6 , 3 ] :  1.0      i.e Factory type 7  at the location 4\n",
            "x[ 7 , 5 ] :  1.0      i.e Factory type 8  at the location 6\n",
            "x[ 8 , 4 ] :  1.0      i.e Factory type 9  at the location 5\n",
            "x[ 9 , 0 ] :  1.0      i.e Factory type 10  at the location 1\n",
            "x[ 10 , 7 ] :  1.0      i.e Factory type 11  at the location 8\n",
            "x[ 11 , 8 ] :  1.0      i.e Factory type 12  at the location 9\n"
          ],
          "name": "stdout"
        }
      ]
    },
    {
      "cell_type": "code",
      "metadata": {
        "id": "wJTrwKYYZFsy",
        "colab_type": "code",
        "colab": {}
      },
      "source": [
        ""
      ],
      "execution_count": null,
      "outputs": []
    },
    {
      "cell_type": "markdown",
      "metadata": {
        "id": "AFpM--PubDCB",
        "colab_type": "text"
      },
      "source": [
        "# **Ex2: Part 12** - *Changing the model under the following conditions*\n",
        "\n",
        "\n",
        "\n",
        "1.   Facility 1 cannot be assigned to Location 4\n",
        "2.   Facility 11 cannot be assigned to Location 3\n",
        "3.   Facility 5 cannot be assigned to Location 9\n",
        "\n",
        "We can get around this problem in two ways:\n",
        "\n",
        "\n",
        "\n",
        "1.   By setting the value of corresponding variables to 0.\n",
        "2.   By increasing the cost of the concerened facility and location to a very high value so that solver does not take this into account while finding the solution.\n",
        "\n",
        "We will, in this question go ahead with the first option, i.e we will add few more constraints and set the variable to 0.\n",
        "\n",
        "So in the above problem in part 1 we add the following variables, \n",
        "\n",
        "\n",
        " \\begin{array}{l}\n",
        "x_{0,3} \\ =0\\\\\n",
        "x_{10,2} \\ =0\\\\\n",
        "x_{4,8} \\ =0\n",
        "\\end{array}\n",
        "\n",
        "\n",
        "\n",
        "\n"
      ]
    },
    {
      "cell_type": "code",
      "metadata": {
        "id": "0_TkbzAzbjza",
        "colab_type": "code",
        "colab": {
          "base_uri": "https://localhost:8080/",
          "height": 360
        },
        "outputId": "7673d552-ac5a-477c-ddaa-bc669b1ed77d"
      },
      "source": [
        "if (cost.shape[0] != cost.shape[1]):\n",
        "  sys.exit('The cost matrix is not a square matrix.')\n",
        "  \n",
        "\n",
        "N = cost.shape[0]\n",
        "index = np.arange(N)\n",
        "\n",
        "model = ConcreteModel()\n",
        "\n",
        "model.x = Var(index,index,domain=NonNegativeIntegers)\n",
        "model.obj= Objective(expr = sum(model.x[i,j] * cost[i,j] for i in index for j in index),sense=minimize)\n",
        "model.cons =ConstraintList()\n",
        "\n",
        "for k in index:\n",
        "  model.cons.add( sum(model.x[k,j] for j in index) == 1)\n",
        "  \n",
        "for k in index:\n",
        "  model.cons.add( sum(model.x[j,k] for j in index) == 1)\n",
        "\n",
        "model.cons.add(model.x[0,3]==0)  \n",
        "model.cons.add(model.x[10,2]==0) \n",
        "model.cons.add(model.x[4,8]==0)   \n",
        "  \n",
        "cbc = SolverFactory('cbc')\n",
        "result = cbc.solve(model)\n",
        "\n",
        "print('The cost of setting up the facotories (Optimal solution is : )',model.obj())\n",
        "print('\\n')\n",
        "\n",
        "print('The solution is :')\n",
        "print('\\n')\n",
        "\n",
        "for i in index:\n",
        "  for j in index:\n",
        "    if model.x[i,j].value>0:\n",
        "      print('x[',i,',',j,'] : ', model.x[i,j].value,'     i.e Factory type',i+1,' at the location',j+1)\n",
        "\n",
        "\n"
      ],
      "execution_count": 37,
      "outputs": [
        {
          "output_type": "stream",
          "text": [
            "The cost of setting up the facotories (Optimal solution is : ) 198.0\n",
            "\n",
            "\n",
            "The solution is :\n",
            "\n",
            "\n",
            "x[ 0 , 1 ] :  1.0      i.e Factory type 1  at the location 2\n",
            "x[ 1 , 6 ] :  1.0      i.e Factory type 2  at the location 7\n",
            "x[ 2 , 11 ] :  1.0      i.e Factory type 3  at the location 12\n",
            "x[ 3 , 9 ] :  1.0      i.e Factory type 4  at the location 10\n",
            "x[ 4 , 2 ] :  1.0      i.e Factory type 5  at the location 3\n",
            "x[ 5 , 10 ] :  1.0      i.e Factory type 6  at the location 11\n",
            "x[ 6 , 3 ] :  1.0      i.e Factory type 7  at the location 4\n",
            "x[ 7 , 5 ] :  1.0      i.e Factory type 8  at the location 6\n",
            "x[ 8 , 4 ] :  1.0      i.e Factory type 9  at the location 5\n",
            "x[ 9 , 0 ] :  1.0      i.e Factory type 10  at the location 1\n",
            "x[ 10 , 7 ] :  1.0      i.e Factory type 11  at the location 8\n",
            "x[ 11 , 8 ] :  1.0      i.e Factory type 12  at the location 9\n"
          ],
          "name": "stdout"
        }
      ]
    },
    {
      "cell_type": "code",
      "metadata": {
        "id": "DIRXdkdreWpC",
        "colab_type": "code",
        "colab": {}
      },
      "source": [
        ""
      ],
      "execution_count": null,
      "outputs": []
    }
  ]
}