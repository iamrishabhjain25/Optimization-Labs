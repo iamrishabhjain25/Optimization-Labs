{
  "nbformat": 4,
  "nbformat_minor": 0,
  "metadata": {
    "colab": {
      "name": "20i190008_IE507_Lab5_Ex1.ipynb",
      "provenance": [],
      "collapsed_sections": [
        "wVMItoWiFOdQ",
        "FYdx4FB9fD1T",
        "TAaNUWUFhmpe"
      ]
    },
    "kernelspec": {
      "name": "python3",
      "display_name": "Python 3"
    }
  },
  "cells": [
    {
      "cell_type": "markdown",
      "metadata": {
        "id": "O2THiBtw_VWn",
        "colab_type": "text"
      },
      "source": [
        "# **Installing packages and importing libraries**"
      ]
    },
    {
      "cell_type": "code",
      "metadata": {
        "id": "P-Gtr9UN7JxB",
        "colab_type": "code",
        "colab": {}
      },
      "source": [
        "\n",
        "!pip install -q pyomo\n",
        "from pyomo.environ import *\n",
        "import numpy as np\n",
        "import pandas as pd\n",
        "\n",
        "!apt-get install -y -qq coinor-cbc\n",
        "\n"
      ],
      "execution_count": null,
      "outputs": []
    },
    {
      "cell_type": "markdown",
      "metadata": {
        "id": "wVMItoWiFOdQ",
        "colab_type": "text"
      },
      "source": [
        "# **Ex1: Part 1 to 6** - *Problem Fomulation, Model, and Solver*\n",
        "\n",
        "\n",
        " \\begin{array}{l}\n",
        "Let\\ x_{ij} \\ be\\ the\\ number\\ of\\ truck\\ load\\ from\\ the\\ i^{th} \\ warehouse\\ to\\ the\\ j^{th} \\ market\\ \\\\\n",
        "where\\ i\\ =1,2,...,8\\ ;\\ j=1,2...,8\\\\\n",
        "\\\\\n",
        "We\\ are\\ given\\ the\\ cost\\ matrix\\ as\\ C\\ where\\ C_{ij} \\ represnt\\ the\\ cost\\ of\\ transportin\\ \\\\\n",
        "from\\ the\\ i^{th} \\ warehoue\\ to\\ the\\ j^{th} \\ market.\\\\\n",
        "\\\\\n",
        "Then\\ our\\ optimization\\ problem\\ becomes\\\\\n",
        "\\\\\n",
        "Min\\ :\\ \\sum ^{8}_{i=1}\\sum ^{8}_{j=1} C_{ij} \\ x_{ij} \\ \\ \\ \\ ,\\ i\\ =1,2,...,8\\ ;\\ j=1,2...,8\\\\\n",
        "\\\\\n",
        "st.\\\\\n",
        "\\sum ^{8}_{j=1} x_{1j} \\ \\leqslant 100\\ \\ \\ \\ and\\ \\ \\ \\ \\ \\ \\ \\sum ^{8}_{i=1} x_{i1} \\ =\\ 75\\\\\n",
        "\\sum ^{8}_{j=1} x_{2j} \\ \\leqslant 250\\ \\ \\ \\ and\\ \\ \\ \\ \\ \\ \\ \\sum ^{8}_{i=1} x_{i2} \\ =\\ 300\\ \\\\\n",
        "\\sum ^{8}_{j=1} x_{3j} \\ \\leqslant 200\\ \\ \\ \\ and\\ \\ \\ \\ \\ \\ \\ \\sum ^{8}_{i=1} x_{i3} \\ =\\ 250\\\\\n",
        "\\sum ^{8}_{j=1} x_{4j} \\ \\leqslant 200\\ \\ \\ \\ and\\ \\ \\ \\ \\ \\ \\ \\sum ^{8}_{i=1} x_{i4} \\ =\\ 200\\\\\n",
        "\\sum ^{8}_{j=1} x_{5j} \\ \\leqslant 150\\ \\ \\ \\ and\\ \\ \\ \\ \\ \\ \\ \\sum ^{8}_{i=1} x_{i5} \\ =\\ 400\\\\\n",
        "\\sum ^{8}_{j=1} x_{6j} \\ \\leqslant 90\\ \\ \\ \\ and\\ \\ \\ \\ \\ \\ \\ \\sum ^{8}_{i=1} x_{i6} \\ =\\ 100\\\\\n",
        "\\sum ^{8}_{j=1} x_{7j} \\ \\leqslant 290\\ \\ \\ \\ and\\ \\ \\ \\ \\ \\ \\ \\sum ^{8}_{i=1} x_{i7} \\ =\\ 50\\\\\n",
        "\\sum ^{8}_{j=1} x_{8j} \\ \\leqslant 200\\ \\ \\ \\ and\\ \\ \\ \\ \\ \\ \\ \\sum ^{8}_{i=1} x_{i8} \\ =\\ 70\\\\\n",
        "\\\\\n",
        "x_{ij} \\ \\in \\ \\mathbb{N} \\cup \\{0\\} \\ \\ \\ \\ \\ \\ \\ \\ \\ ,i\\ =1,2,...,8\\ ;\\ j=1,2...,8\\ \\\\\n",
        "\\end{array}\n",
        "\n",
        "\n",
        "\n",
        "\n"
      ]
    },
    {
      "cell_type": "code",
      "metadata": {
        "id": "o7UsVhmwFbcu",
        "colab_type": "code",
        "colab": {
          "base_uri": "https://localhost:8080/",
          "height": 1000
        },
        "outputId": "1a7be232-2ecd-46bb-de28-6bdd9921a614"
      },
      "source": [
        "#Creating a data frame from the csv\n",
        "data = pd.read_csv('lab5_ex1.csv')\n",
        "demand = np.array([75,300,250,200,400,100,50,70])\n",
        "\n",
        "#Creating model, number of rows, 'M' and number of columns 'N' \n",
        "model = ConcreteModel()\n",
        "N = len(data)\n",
        "M = len(data.columns)-2\n",
        "\n",
        "#Creating indexes for rows and columns\n",
        "col_index = np.arange(N)\n",
        "row_index = np.arange(M)\n",
        "\n",
        "#Creating model variables, objective, and constrainsts\n",
        "model.x = Var(row_index,col_index,domain=NonNegativeIntegers)\n",
        "model.obj = Objective(expr = sum(model.x[i,j] * data.iloc[i,j+1] for i in row_index for j in col_index) , sense=minimize)\n",
        "model.cons = ConstraintList()\n",
        "\n",
        "#Demand Constraint\n",
        "for k in col_index:\n",
        "  model.cons.add( sum(model.x[i,k] for i in row_index) == demand[k] )\n",
        "\n",
        "#Supply constraint    \n",
        "for k in row_index:\n",
        "  model.cons.add( sum(model.x[k,j] for j in col_index) <= data.iloc[k,9])\n",
        "\n",
        "#Printing the model to verify the details\n",
        "model.pprint()\n",
        "\n",
        "#Solver and result\n",
        "cbc_solver = SolverFactory('cbc')\n",
        "result = cbc_solver.solve(model)\n"
      ],
      "execution_count": null,
      "outputs": [
        {
          "output_type": "stream",
          "text": [
            "4 Set Declarations\n",
            "    cons_index : Size=1, Index=None, Ordered=Insertion\n",
            "        Key  : Dimen : Domain : Size : Members\n",
            "        None :     1 :    Any :   16 : {1, 2, 3, 4, 5, 6, 7, 8, 9, 10, 11, 12, 13, 14, 15, 16}\n",
            "    x_index : Size=1, Index=None, Ordered=False\n",
            "        Key  : Dimen : Domain              : Size : Members\n",
            "        None :     2 : x_index_0*x_index_1 :   64 : {(0, 0), (0, 1), (0, 2), (0, 3), (0, 4), (0, 5), (0, 6), (0, 7), (1, 0), (1, 1), (1, 2), (1, 3), (1, 4), (1, 5), (1, 6), (1, 7), (2, 0), (2, 1), (2, 2), (2, 3), (2, 4), (2, 5), (2, 6), (2, 7), (3, 0), (3, 1), (3, 2), (3, 3), (3, 4), (3, 5), (3, 6), (3, 7), (4, 0), (4, 1), (4, 2), (4, 3), (4, 4), (4, 5), (4, 6), (4, 7), (5, 0), (5, 1), (5, 2), (5, 3), (5, 4), (5, 5), (5, 6), (5, 7), (6, 0), (6, 1), (6, 2), (6, 3), (6, 4), (6, 5), (6, 6), (6, 7), (7, 0), (7, 1), (7, 2), (7, 3), (7, 4), (7, 5), (7, 6), (7, 7)}\n",
            "    x_index_0 : Size=1, Index=None, Ordered=False\n",
            "        Key  : Dimen : Domain : Size : Members\n",
            "        None :     1 :    Any :    8 : {0, 1, 2, 3, 4, 5, 6, 7}\n",
            "    x_index_1 : Size=1, Index=None, Ordered=False\n",
            "        Key  : Dimen : Domain : Size : Members\n",
            "        None :     1 :    Any :    8 : {0, 1, 2, 3, 4, 5, 6, 7}\n",
            "\n",
            "1 Var Declarations\n",
            "    x : Size=64, Index=x_index\n",
            "        Key    : Lower : Value : Upper : Fixed : Stale : Domain\n",
            "        (0, 0) :     0 :  None :  None : False :  True : NonNegativeIntegers\n",
            "        (0, 1) :     0 :  None :  None : False :  True : NonNegativeIntegers\n",
            "        (0, 2) :     0 :  None :  None : False :  True : NonNegativeIntegers\n",
            "        (0, 3) :     0 :  None :  None : False :  True : NonNegativeIntegers\n",
            "        (0, 4) :     0 :  None :  None : False :  True : NonNegativeIntegers\n",
            "        (0, 5) :     0 :  None :  None : False :  True : NonNegativeIntegers\n",
            "        (0, 6) :     0 :  None :  None : False :  True : NonNegativeIntegers\n",
            "        (0, 7) :     0 :  None :  None : False :  True : NonNegativeIntegers\n",
            "        (1, 0) :     0 :  None :  None : False :  True : NonNegativeIntegers\n",
            "        (1, 1) :     0 :  None :  None : False :  True : NonNegativeIntegers\n",
            "        (1, 2) :     0 :  None :  None : False :  True : NonNegativeIntegers\n",
            "        (1, 3) :     0 :  None :  None : False :  True : NonNegativeIntegers\n",
            "        (1, 4) :     0 :  None :  None : False :  True : NonNegativeIntegers\n",
            "        (1, 5) :     0 :  None :  None : False :  True : NonNegativeIntegers\n",
            "        (1, 6) :     0 :  None :  None : False :  True : NonNegativeIntegers\n",
            "        (1, 7) :     0 :  None :  None : False :  True : NonNegativeIntegers\n",
            "        (2, 0) :     0 :  None :  None : False :  True : NonNegativeIntegers\n",
            "        (2, 1) :     0 :  None :  None : False :  True : NonNegativeIntegers\n",
            "        (2, 2) :     0 :  None :  None : False :  True : NonNegativeIntegers\n",
            "        (2, 3) :     0 :  None :  None : False :  True : NonNegativeIntegers\n",
            "        (2, 4) :     0 :  None :  None : False :  True : NonNegativeIntegers\n",
            "        (2, 5) :     0 :  None :  None : False :  True : NonNegativeIntegers\n",
            "        (2, 6) :     0 :  None :  None : False :  True : NonNegativeIntegers\n",
            "        (2, 7) :     0 :  None :  None : False :  True : NonNegativeIntegers\n",
            "        (3, 0) :     0 :  None :  None : False :  True : NonNegativeIntegers\n",
            "        (3, 1) :     0 :  None :  None : False :  True : NonNegativeIntegers\n",
            "        (3, 2) :     0 :  None :  None : False :  True : NonNegativeIntegers\n",
            "        (3, 3) :     0 :  None :  None : False :  True : NonNegativeIntegers\n",
            "        (3, 4) :     0 :  None :  None : False :  True : NonNegativeIntegers\n",
            "        (3, 5) :     0 :  None :  None : False :  True : NonNegativeIntegers\n",
            "        (3, 6) :     0 :  None :  None : False :  True : NonNegativeIntegers\n",
            "        (3, 7) :     0 :  None :  None : False :  True : NonNegativeIntegers\n",
            "        (4, 0) :     0 :  None :  None : False :  True : NonNegativeIntegers\n",
            "        (4, 1) :     0 :  None :  None : False :  True : NonNegativeIntegers\n",
            "        (4, 2) :     0 :  None :  None : False :  True : NonNegativeIntegers\n",
            "        (4, 3) :     0 :  None :  None : False :  True : NonNegativeIntegers\n",
            "        (4, 4) :     0 :  None :  None : False :  True : NonNegativeIntegers\n",
            "        (4, 5) :     0 :  None :  None : False :  True : NonNegativeIntegers\n",
            "        (4, 6) :     0 :  None :  None : False :  True : NonNegativeIntegers\n",
            "        (4, 7) :     0 :  None :  None : False :  True : NonNegativeIntegers\n",
            "        (5, 0) :     0 :  None :  None : False :  True : NonNegativeIntegers\n",
            "        (5, 1) :     0 :  None :  None : False :  True : NonNegativeIntegers\n",
            "        (5, 2) :     0 :  None :  None : False :  True : NonNegativeIntegers\n",
            "        (5, 3) :     0 :  None :  None : False :  True : NonNegativeIntegers\n",
            "        (5, 4) :     0 :  None :  None : False :  True : NonNegativeIntegers\n",
            "        (5, 5) :     0 :  None :  None : False :  True : NonNegativeIntegers\n",
            "        (5, 6) :     0 :  None :  None : False :  True : NonNegativeIntegers\n",
            "        (5, 7) :     0 :  None :  None : False :  True : NonNegativeIntegers\n",
            "        (6, 0) :     0 :  None :  None : False :  True : NonNegativeIntegers\n",
            "        (6, 1) :     0 :  None :  None : False :  True : NonNegativeIntegers\n",
            "        (6, 2) :     0 :  None :  None : False :  True : NonNegativeIntegers\n",
            "        (6, 3) :     0 :  None :  None : False :  True : NonNegativeIntegers\n",
            "        (6, 4) :     0 :  None :  None : False :  True : NonNegativeIntegers\n",
            "        (6, 5) :     0 :  None :  None : False :  True : NonNegativeIntegers\n",
            "        (6, 6) :     0 :  None :  None : False :  True : NonNegativeIntegers\n",
            "        (6, 7) :     0 :  None :  None : False :  True : NonNegativeIntegers\n",
            "        (7, 0) :     0 :  None :  None : False :  True : NonNegativeIntegers\n",
            "        (7, 1) :     0 :  None :  None : False :  True : NonNegativeIntegers\n",
            "        (7, 2) :     0 :  None :  None : False :  True : NonNegativeIntegers\n",
            "        (7, 3) :     0 :  None :  None : False :  True : NonNegativeIntegers\n",
            "        (7, 4) :     0 :  None :  None : False :  True : NonNegativeIntegers\n",
            "        (7, 5) :     0 :  None :  None : False :  True : NonNegativeIntegers\n",
            "        (7, 6) :     0 :  None :  None : False :  True : NonNegativeIntegers\n",
            "        (7, 7) :     0 :  None :  None : False :  True : NonNegativeIntegers\n",
            "\n",
            "1 Objective Declarations\n",
            "    obj : Size=1, Index=None, Active=True\n",
            "        Key  : Active : Sense    : Expression\n",
            "        None :   True : minimize : 427*x[0,0] + 617*x[0,1] + 1270*x[0,2] + 982*x[0,3] + 915*x[0,4] + 943*x[0,5] + 974*x[0,6] + 1265*x[0,7] + 1179*x[1,0] + 1623*x[1,1] + 372*x[1,2] + 2072*x[1,3] + 257*x[1,4] + 1373*x[1,5] + 1052*x[1,6] + 959*x[1,7] + 1409*x[2,0] + 1823*x[2,1] + 59*x[2,2] + 2127*x[2,3] + 358*x[2,4] + 1422*x[2,5] + 1304*x[2,6] + 811*x[2,7] + 1123*x[3,0] + 533*x[3,1] + 2265*x[3,2] + 467*x[3,3] + 1896*x[3,4] + 941*x[3,5] + 1232*x[3,6] + 1348*x[3,7] + 1712*x[4,0] + 2079*x[4,1] + 1830*x[4,2] + 1499*x[4,3] + 1929*x[4,4] + 439*x[4,5] + 691*x[4,6] + 128*x[4,7] + 886*x[5,0] + 760*x[5,1] + 1965*x[5,2] + 83*x[5,3] + 1759*x[5,4] + 395*x[5,5] + 795*x[5,6] + 1332*x[5,7] + 546*x[6,0] + 817*x[6,1] + 1045*x[6,2] + 1232*x[6,3] + 905*x[6,4] + 1211*x[6,5] + 1187*x[6,6] + 1487*x[6,7] + 495*x[7,0] + 1062*x[7,1] + 1113*x[7,2] + 1121*x[7,3] + 802*x[7,4] + 1125*x[7,5] + 474*x[7,6] + 801*x[7,7]\n",
            "\n",
            "1 Constraint Declarations\n",
            "    cons : Size=16, Index=cons_index, Active=True\n",
            "        Key : Lower : Body                                                                  : Upper : Active\n",
            "          1 :  75.0 : x[0,0] + x[1,0] + x[2,0] + x[3,0] + x[4,0] + x[5,0] + x[6,0] + x[7,0] :  75.0 :   True\n",
            "          2 : 300.0 : x[0,1] + x[1,1] + x[2,1] + x[3,1] + x[4,1] + x[5,1] + x[6,1] + x[7,1] : 300.0 :   True\n",
            "          3 : 250.0 : x[0,2] + x[1,2] + x[2,2] + x[3,2] + x[4,2] + x[5,2] + x[6,2] + x[7,2] : 250.0 :   True\n",
            "          4 : 200.0 : x[0,3] + x[1,3] + x[2,3] + x[3,3] + x[4,3] + x[5,3] + x[6,3] + x[7,3] : 200.0 :   True\n",
            "          5 : 400.0 : x[0,4] + x[1,4] + x[2,4] + x[3,4] + x[4,4] + x[5,4] + x[6,4] + x[7,4] : 400.0 :   True\n",
            "          6 : 100.0 : x[0,5] + x[1,5] + x[2,5] + x[3,5] + x[4,5] + x[5,5] + x[6,5] + x[7,5] : 100.0 :   True\n",
            "          7 :  50.0 : x[0,6] + x[1,6] + x[2,6] + x[3,6] + x[4,6] + x[5,6] + x[6,6] + x[7,6] :  50.0 :   True\n",
            "          8 :  70.0 : x[0,7] + x[1,7] + x[2,7] + x[3,7] + x[4,7] + x[5,7] + x[6,7] + x[7,7] :  70.0 :   True\n",
            "          9 :  -Inf : x[0,0] + x[0,1] + x[0,2] + x[0,3] + x[0,4] + x[0,5] + x[0,6] + x[0,7] : 100.0 :   True\n",
            "         10 :  -Inf : x[1,0] + x[1,1] + x[1,2] + x[1,3] + x[1,4] + x[1,5] + x[1,6] + x[1,7] : 250.0 :   True\n",
            "         11 :  -Inf : x[2,0] + x[2,1] + x[2,2] + x[2,3] + x[2,4] + x[2,5] + x[2,6] + x[2,7] : 200.0 :   True\n",
            "         12 :  -Inf : x[3,0] + x[3,1] + x[3,2] + x[3,3] + x[3,4] + x[3,5] + x[3,6] + x[3,7] : 200.0 :   True\n",
            "         13 :  -Inf : x[4,0] + x[4,1] + x[4,2] + x[4,3] + x[4,4] + x[4,5] + x[4,6] + x[4,7] : 150.0 :   True\n",
            "         14 :  -Inf : x[5,0] + x[5,1] + x[5,2] + x[5,3] + x[5,4] + x[5,5] + x[5,6] + x[5,7] :  90.0 :   True\n",
            "         15 :  -Inf : x[6,0] + x[6,1] + x[6,2] + x[6,3] + x[6,4] + x[6,5] + x[6,6] + x[6,7] : 290.0 :   True\n",
            "         16 :  -Inf : x[7,0] + x[7,1] + x[7,2] + x[7,3] + x[7,4] + x[7,5] + x[7,6] + x[7,7] : 200.0 :   True\n",
            "\n",
            "7 Declarations: x_index_0 x_index_1 x_index x obj cons_index cons\n"
          ],
          "name": "stdout"
        }
      ]
    },
    {
      "cell_type": "markdown",
      "metadata": {
        "id": "FYdx4FB9fD1T",
        "colab_type": "text"
      },
      "source": [
        "# **Ex1: Part 7** - *Printing the solution, Cost and Variables*\n",
        "\n",
        "The total cost and the number of truck load from ith warehouse to the jth market is as follows:"
      ]
    },
    {
      "cell_type": "code",
      "metadata": {
        "id": "DfAnBlmOTh3W",
        "colab_type": "code",
        "colab": {
          "base_uri": "https://localhost:8080/",
          "height": 398
        },
        "outputId": "a09687cf-f669-4f34-a61f-22e1be1dc339"
      },
      "source": [
        "print('The total transportation cost (Optimal Solution) : ', model.obj())\n",
        "print('\\n')\n",
        "\n",
        "print('The number of truck loads transported are as follows: ',end='\\n\\n')\n",
        "for i in row_index: \n",
        "  for j in col_index:\n",
        "    if model.x[i,j].value > 0 :\n",
        "      print('x[',i,',',j,'] : ', model.x[i,j].value,end=\"    i.e from the \")\n",
        "      print(data.iloc[i,0],'to ', data.columns[j+1])"
      ],
      "execution_count": null,
      "outputs": [
        {
          "output_type": "stream",
          "text": [
            "The total transportation cost (Optimal Solution) :  635720.0\n",
            "\n",
            "\n",
            "The number of truck loads transported are as follows: \n",
            "\n",
            "x[ 0 , 1 ] :  100.0    i.e from the Ahmedabad to  Jodhpur\n",
            "x[ 1 , 2 ] :  50.0    i.e from the Bengaluru to  Vellore\n",
            "x[ 1 , 4 ] :  200.0    i.e from the Bengaluru to  Hyderabad\n",
            "x[ 2 , 2 ] :  200.0    i.e from the Chennai to  Vellore\n",
            "x[ 3 , 1 ] :  70.0    i.e from the Delhi to  Jodhpur\n",
            "x[ 3 , 3 ] :  130.0    i.e from the Delhi to  Kanpur\n",
            "x[ 4 , 5 ] :  80.0    i.e from the Kolkata to  Patna\n",
            "x[ 4 , 7 ] :  70.0    i.e from the Kolkata to  Cuttack\n",
            "x[ 5 , 3 ] :  70.0    i.e from the Lucknow to  Kanpur\n",
            "x[ 5 , 5 ] :  20.0    i.e from the Lucknow to  Patna\n",
            "x[ 6 , 0 ] :  75.0    i.e from the Mumbai to  Indore\n",
            "x[ 6 , 1 ] :  130.0    i.e from the Mumbai to  Jodhpur\n",
            "x[ 6 , 4 ] :  50.0    i.e from the Mumbai to  Hyderabad\n",
            "x[ 7 , 4 ] :  150.0    i.e from the Nagpur to  Hyderabad\n",
            "x[ 7 , 6 ] :  50.0    i.e from the Nagpur to  Raipur\n"
          ],
          "name": "stdout"
        }
      ]
    },
    {
      "cell_type": "code",
      "metadata": {
        "id": "YUlFevXngda8",
        "colab_type": "code",
        "colab": {}
      },
      "source": [
        ""
      ],
      "execution_count": null,
      "outputs": []
    },
    {
      "cell_type": "markdown",
      "metadata": {
        "id": "TAaNUWUFhmpe",
        "colab_type": "text"
      },
      "source": [
        "# **Ex1: Part 8, 9** : *No transportation possible on Banglore-Patna Route*\n",
        "\n",
        "One way to tackle this problen without changing the above model is to increase the cost of this route in the cost matrix to such an extent that the solver does not try to choose this model in any way.  "
      ]
    },
    {
      "cell_type": "code",
      "metadata": {
        "id": "ns_Qkr7tigF8",
        "colab_type": "code",
        "colab": {}
      },
      "source": [
        "\n",
        "#Changing the banglore patna cost to infinity\n",
        "data.iloc[1,6] = 9999999999\n",
        "\n",
        "#Creating a new model again\n",
        "\n",
        "demand = np.array([75,300,250,200,400,100,50,70])\n",
        "\n",
        "#Creating model, number of rows, 'M' and number of columns 'N' \n",
        "model2 = ConcreteModel()\n",
        "\n",
        "N = len(data)\n",
        "M = len(data.columns)-2\n",
        "\n",
        "#Creating indexes for rows and columns\n",
        "col_index = np.arange(N)\n",
        "row_index = np.arange(M)\n",
        "\n",
        "#Creating model variables, objective, and constrainsts\n",
        "model2.x = Var(row_index,col_index,domain=NonNegativeIntegers)\n",
        "model2.obj = Objective(expr = sum(model2.x[i,j] * data.iloc[i,j+1] for i in row_index for j in col_index) , sense=minimize)\n",
        "model2.cons = ConstraintList()\n",
        "\n",
        "#Demand Constraint\n",
        "for k in col_index:\n",
        "  model2.cons.add( sum(model2.x[i,k] for i in row_index) == demand[k] )\n",
        "\n",
        "#Supply constraint    \n",
        "for k in row_index:\n",
        "  model2.cons.add( sum(model2.x[k,j] for j in col_index) <= data.iloc[k,9])\n",
        "\n",
        "\n",
        "#Solver and result\n",
        "\n",
        "result2 =cbc_solver.solve(model2)\n",
        "\n",
        "\n"
      ],
      "execution_count": null,
      "outputs": []
    },
    {
      "cell_type": "markdown",
      "metadata": {
        "id": "bBCA_fCjPy2S",
        "colab_type": "text"
      },
      "source": [
        "***RESULT***"
      ]
    },
    {
      "cell_type": "code",
      "metadata": {
        "id": "FbLai1hJGkZd",
        "colab_type": "code",
        "colab": {
          "base_uri": "https://localhost:8080/",
          "height": 398
        },
        "outputId": "3954529b-6b78-4ab1-f436-31307b1ec8d1"
      },
      "source": [
        "print('The total transportation cost (Optimal Solution) : ', model2.obj())\n",
        "print('\\n')\n",
        "\n",
        "print('The number of truck loads transported are as follows: ',end='\\n\\n')\n",
        "for i in row_index: \n",
        "  for j in col_index:\n",
        "    if model2.x[i,j].value > 0 :\n",
        "      print('x[',i,',',j,'] : ', model2.x[i,j].value,end=\"    i.e from the \")\n",
        "      print(data.iloc[i,0],'to ', data.columns[j+1])\n",
        "  \n",
        "      "
      ],
      "execution_count": null,
      "outputs": [
        {
          "output_type": "stream",
          "text": [
            "The total transportation cost (Optimal Solution) :  635720.0\n",
            "\n",
            "\n",
            "The number of truck loads transported are as follows: \n",
            "\n",
            "x[ 0 , 1 ] :  100.0    i.e from the Ahmedabad to  Jodhpur\n",
            "x[ 1 , 2 ] :  50.0    i.e from the Bengaluru to  Vellore\n",
            "x[ 1 , 4 ] :  200.0    i.e from the Bengaluru to  Hyderabad\n",
            "x[ 2 , 2 ] :  200.0    i.e from the Chennai to  Vellore\n",
            "x[ 3 , 1 ] :  70.0    i.e from the Delhi to  Jodhpur\n",
            "x[ 3 , 3 ] :  130.0    i.e from the Delhi to  Kanpur\n",
            "x[ 4 , 5 ] :  80.0    i.e from the Kolkata to  Patna\n",
            "x[ 4 , 7 ] :  70.0    i.e from the Kolkata to  Cuttack\n",
            "x[ 5 , 3 ] :  70.0    i.e from the Lucknow to  Kanpur\n",
            "x[ 5 , 5 ] :  20.0    i.e from the Lucknow to  Patna\n",
            "x[ 6 , 0 ] :  75.0    i.e from the Mumbai to  Indore\n",
            "x[ 6 , 1 ] :  130.0    i.e from the Mumbai to  Jodhpur\n",
            "x[ 6 , 4 ] :  50.0    i.e from the Mumbai to  Hyderabad\n",
            "x[ 7 , 4 ] :  150.0    i.e from the Nagpur to  Hyderabad\n",
            "x[ 7 , 6 ] :  50.0    i.e from the Nagpur to  Raipur\n"
          ],
          "name": "stdout"
        }
      ]
    },
    {
      "cell_type": "code",
      "metadata": {
        "id": "00Yx04u2P-xf",
        "colab_type": "code",
        "colab": {}
      },
      "source": [
        ""
      ],
      "execution_count": null,
      "outputs": []
    }
  ]
}