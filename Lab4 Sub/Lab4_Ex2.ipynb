{
  "nbformat": 4,
  "nbformat_minor": 0,
  "metadata": {
    "colab": {
      "name": "20i190008_IE507_Lab4_Ex2.ipynb",
      "provenance": [],
      "collapsed_sections": [
        "O2THiBtw_VWn",
        "2qHJT3hfEPQg",
        "WnkuKnNnNjCd",
        "rs6Cwz11Q43b"
      ]
    },
    "kernelspec": {
      "name": "python3",
      "display_name": "Python 3"
    }
  },
  "cells": [
    {
      "cell_type": "markdown",
      "metadata": {
        "id": "O2THiBtw_VWn",
        "colab_type": "text"
      },
      "source": [
        "# **Installing packages and importing libraries**"
      ]
    },
    {
      "cell_type": "code",
      "metadata": {
        "id": "P-Gtr9UN7JxB",
        "colab_type": "code",
        "colab": {}
      },
      "source": [
        "\n",
        "!pip install -q pyomo\n",
        "from pyomo.environ import *\n",
        "import numpy as np\n",
        "import pandas as pd\n",
        "\n",
        "!apt-get install -y -qq glpk-utils\n",
        "\n",
        "!apt-get install -y -qq coinor-cbc\n",
        "\n"
      ],
      "execution_count": null,
      "outputs": []
    },
    {
      "cell_type": "markdown",
      "metadata": {
        "id": "2qHJT3hfEPQg",
        "colab_type": "text"
      },
      "source": [
        "# **Ex2 : (Part 1-4) MILP Model and solver **\n",
        "\n",
        "\n",
        "\n",
        "Solving the following MILP problem with the coefficients given in the text file.\n",
        "\n",
        "\n",
        "\n",
        " \\begin{array}{l}\n",
        "max\\ \\ \\ \\ \\ \\sum ^{n}_{j=1} c_{j} x_{j}\\\\\n",
        "\\\\\n",
        "s.t\\ \\ \\sum ^{n}_{j=1} a_{ij} x_{j} \\ \\leqslant \\ b_{i} \\ ,     \\ i\\ =\\ 1,2,......,m\\\\\n",
        "x_{j\\ } \\in \\ \\{0,1\\} ,\\ \\ \\ \\ j=1,2,.....,n\n",
        "\\end{array}\n",
        "\n",
        "\n"
      ]
    },
    {
      "cell_type": "code",
      "metadata": {
        "id": "A9pwlpTvDNck",
        "colab_type": "code",
        "colab": {
          "base_uri": "https://localhost:8080/",
          "height": 340
        },
        "outputId": "436bd3d8-1536-4c49-82ee-5638abd79d8d"
      },
      "source": [
        "# Creating model\n",
        "model = ConcreteModel()\n",
        "\n",
        "#importing the txt file of coefficients\n",
        "coeff = np.loadtxt('lab4_ex2_lp_ip_coef.txt', delimiter=',')\n",
        "\n",
        "\n",
        "# Numbers of variable N, and number of constraints M\n",
        "N = coeff.shape[1] - 1\n",
        "M = coeff.shape[0] -1\n",
        "\n",
        "\n",
        "col_index = np.arange(N)\n",
        "row_index = np.arange(M)\n",
        "\n",
        "#Coefficients of constraints matrix with rhs\n",
        "coeff_cons_with_rhs = coeff[1:,:]\n",
        "\n",
        "\n",
        "\n",
        "# creating variables and their type as binary\n",
        "model.x = Var(col_index, domain=Binary)\n",
        "\n",
        "\n",
        "# Initialising list of constraints\n",
        "model.cons = ConstraintList()\n",
        "\n",
        "# Model objective\n",
        "model.obj = Objective(expr = summation(coeff[0,:-1],model.x), sense = maximize)\n",
        "\n",
        "#Adding constraits \n",
        "\n",
        "for i in row_index:\n",
        "  model.cons.add(summation(coeff_cons_with_rhs[i,:-1],model.x) <= coeff_cons_with_rhs[i,-1])\n",
        "\n",
        "\n",
        "\n",
        "# Solving the model with cbc solver\n",
        "cbc_solver = SolverFactory('cbc')\n",
        "result = cbc_solver.solve(model)\n",
        "\n",
        "\n",
        "# Printing result\n",
        "\n",
        "print('Status : ', result.solver.Status)\n",
        "print('Terminating condition : ', result.solver.termination_condition)\n",
        "print('Message : ', result.solver.termination_message)\n",
        "\n",
        "print('\\n')\n",
        "\n",
        "print('The optimal value of the objective function is : ' , model.obj())\n",
        "print('Time taken by the solver : ', result.solver.time)\n",
        "print('\\n')\n",
        "\n",
        "print('Statistics : ' )\n",
        "print('\\n')\n",
        "print(result.solver.Statistics)\n",
        "\n"
      ],
      "execution_count": null,
      "outputs": [
        {
          "output_type": "stream",
          "text": [
            "Status :  ok\n",
            "Terminating condition :  optimal\n",
            "Message :  Model was solved to optimality (subject to tolerances), and an optimal solution is available.\n",
            "\n",
            "\n",
            "The optimal value of the objective function is :  295828.0\n",
            "Time taken by the solver :  69.12982439994812\n",
            "\n",
            "\n",
            "Statistics : \n",
            "\n",
            "\n",
            "\n",
            "Branch and bound: \n",
            "  Number of bounded subproblems: 347044\n",
            "  Number of created subproblems: 347044\n",
            "Black box: \n",
            "  Number of iterations: 1407089\n",
            "\n"
          ],
          "name": "stdout"
        }
      ]
    },
    {
      "cell_type": "markdown",
      "metadata": {
        "id": "WnkuKnNnNjCd",
        "colab_type": "text"
      },
      "source": [
        "# Ex.2 Part 5-6 , LP Model and solver\n",
        "\n",
        "\n",
        " \\begin{array}{l}\n",
        "max\\ \\ \\ \\ \\ \\sum ^{n}_{j=1} c_{j} x_{j}\\\\\n",
        "\\\\\n",
        "s.t\\ \\ \\sum ^{n}_{j=1} a_{ij} x_{j} \\ \\leqslant \\ b_{i} \\ ,     \\ i\\ =\\ 1,2,......,m\\\\\n",
        "0 \\ \\leqslant \\ x_{j} \\ \\leqslant \\ 1,\\ \\ \\ \\ j=1,2,.....,n\n",
        "\\end{array}\n"
      ]
    },
    {
      "cell_type": "code",
      "metadata": {
        "id": "x2bTKY_SIaLX",
        "colab_type": "code",
        "colab": {
          "base_uri": "https://localhost:8080/",
          "height": 340
        },
        "outputId": "aaddfa99-0c93-46d9-fd9f-1907d91e22e2"
      },
      "source": [
        "# Creating model\n",
        "model2 = ConcreteModel()\n",
        "\n",
        "#importing the txt file of coefficients\n",
        "coeff = np.loadtxt('lab4_ex2_lp_ip_coef.txt', delimiter=',')\n",
        "\n",
        "\n",
        "# Numbers of variable N, and number of constraints M\n",
        "N = coeff.shape[1] - 1\n",
        "M = coeff.shape[0] -1\n",
        "\n",
        "\n",
        "col_index = np.arange(N)\n",
        "row_index = np.arange(M)\n",
        "\n",
        "#Coefficients of constraints matrix with rhs\n",
        "coeff_cons_with_rhs = coeff[1:,:]\n",
        "\n",
        "\n",
        "\n",
        "# creating variables and their type as binary\n",
        "model2.x = Var(col_index)\n",
        "\n",
        "\n",
        "# Initialising list of constraints\n",
        "model2.cons = ConstraintList()\n",
        "\n",
        "# Model objective\n",
        "model2.obj = Objective(expr = summation(coeff[0,:-1],model2.x), sense = maximize)\n",
        "\n",
        "#Adding constraits \n",
        "\n",
        "for i in row_index:\n",
        "  model2.cons.add(summation(coeff_cons_with_rhs[i,:-1],model2.x) <= coeff_cons_with_rhs[i,-1])\n",
        "\n",
        "for i in col_index:\n",
        "  model2.x[i].setub(1)\n",
        "  model2.x[i].setlb(0)\n",
        "\n",
        "\n",
        "\n",
        "# Solving the model with cbc solver\n",
        "cbc_solver = SolverFactory('cbc')\n",
        "result2 = cbc_solver.solve(model2)\n",
        "\n",
        "\n",
        "# Printing result\n",
        "\n",
        "print('Status : ', result2.solver.Status)\n",
        "print('Terminating condition : ', result2.solver.termination_condition)\n",
        "print('Message : ', result2.solver.termination_message)\n",
        "\n",
        "print('\\n')\n",
        "\n",
        "print('The optimal value of the objective function is : ' , model2.obj())\n",
        "print('Time taken by the solver : ', result2.solver.time)\n",
        "print('\\n')\n",
        "\n",
        "print('Statistics : ' )\n",
        "print('\\n')\n",
        "print(result2.solver.Statistics)\n",
        "\n"
      ],
      "execution_count": null,
      "outputs": [
        {
          "output_type": "stream",
          "text": [
            "Status :  ok\n",
            "Terminating condition :  optimal\n",
            "Message :  Model was solved to optimality (subject to tolerances), and an optimal solution is available.\n",
            "\n",
            "\n",
            "The optimal value of the objective function is :  295896.37697236\n",
            "Time taken by the solver :  0.034960031509399414\n",
            "\n",
            "\n",
            "Statistics : \n",
            "\n",
            "\n",
            "\n",
            "Branch and bound: \n",
            "  Number of bounded subproblems: None\n",
            "  Number of created subproblems: None\n",
            "Black box: \n",
            "  Number of iterations: 18\n",
            "\n"
          ],
          "name": "stdout"
        }
      ]
    },
    {
      "cell_type": "markdown",
      "metadata": {
        "id": "rs6Cwz11Q43b",
        "colab_type": "text"
      },
      "source": [
        "# Remarks : Comparison between models\n",
        "\n",
        "So we observe that the time taken by the LP relaxtion is significantly less than the time taken by the MILP model.  The reason for that is that the number of iterations done in Lp is just 18 wher the number of iterations performed in MILP is 1407089. \n",
        "\n",
        "Also there are no bounded subproblems in LP but there are 347044 number of sub problems created in MILP which takes more time to be solved.\n"
      ]
    },
    {
      "cell_type": "code",
      "metadata": {
        "id": "Z8J8NP0zQxoZ",
        "colab_type": "code",
        "colab": {
          "base_uri": "https://localhost:8080/",
          "height": 34
        },
        "outputId": "32d4704e-123e-4f9a-cd15-c8398cc643c5"
      },
      "source": [
        "diff = result.solver.time - result2.solver.time\n",
        "\n",
        "print('The difference in the time ( time taken by MILP - time taken by LP) is ', diff)"
      ],
      "execution_count": null,
      "outputs": [
        {
          "output_type": "stream",
          "text": [
            "The difference in the time ( time taken by MILP - time taken by LP) is  69.09486436843872\n"
          ],
          "name": "stdout"
        }
      ]
    },
    {
      "cell_type": "code",
      "metadata": {
        "id": "9YoxYO3XRiOO",
        "colab_type": "code",
        "colab": {}
      },
      "source": [
        ""
      ],
      "execution_count": null,
      "outputs": []
    }
  ]
}