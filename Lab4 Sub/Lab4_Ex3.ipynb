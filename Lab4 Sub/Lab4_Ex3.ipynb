{
  "nbformat": 4,
  "nbformat_minor": 0,
  "metadata": {
    "colab": {
      "name": "20i190008_IE507_Lab4_Ex3.ipynb",
      "provenance": [],
      "collapsed_sections": [
        "O2THiBtw_VWn",
        "O1ym8Zw8TnEA",
        "1Vluup-FIbWR",
        "BiOeS15vNmTI"
      ]
    },
    "kernelspec": {
      "name": "python3",
      "display_name": "Python 3"
    }
  },
  "cells": [
    {
      "cell_type": "markdown",
      "metadata": {
        "id": "O2THiBtw_VWn",
        "colab_type": "text"
      },
      "source": [
        "# **Installing packages and importing libraries**"
      ]
    },
    {
      "cell_type": "code",
      "metadata": {
        "id": "P-Gtr9UN7JxB",
        "colab_type": "code",
        "colab": {}
      },
      "source": [
        "\n",
        "!pip install -q pyomo\n",
        "from pyomo.environ import *\n",
        "import numpy as np\n",
        "import pandas as pd\n",
        "\n",
        "!apt-get install -y -qq glpk-utils\n",
        "\n",
        "!apt-get install -y -qq coinor-cbc\n",
        "\n"
      ],
      "execution_count": 119,
      "outputs": []
    },
    {
      "cell_type": "markdown",
      "metadata": {
        "id": "O1ym8Zw8TnEA",
        "colab_type": "text"
      },
      "source": [
        "# Ex.3 (Part 1 to 6)\n",
        "\n",
        "Mathematical Model for this problem is as follows :\n",
        "\n",
        "Let xi be the number of drones purchased. Where x0 is for Sanklap and x4 is for Lakshya \n",
        "\n",
        "\n",
        "\n",
        "\\begin{array}{l}\n",
        "max\\ :\\ \\ \\ \\ \\ 15x_{0} +\\ 10x_{1} +20x_{2} +10x_{3} +15x_{4}\n",
        "\\\\\n",
        "st.\\ \\ \\ 4x_{0} +3.5x_{1} +5x_{2} +4x_{3} +4.5x_{4} \\ \\leqslant \\ 29\\\\\n",
        "\\ \\ \\ \\ \\ \\ \\ \\  3x_{0} +3.25x_{1} +4x_{2} +2.75x_{3} +2.5x_{4} \\ \\leqslant \\ 37\\\\\n",
        "\\ \\ \\ \\ \\ \\ \\ \\  x_{i} \\in \\mathbb{N} \\cup \\{0\\} \\ \\ \n",
        "\\end{array}\n",
        "\n",
        "\n",
        "\n"
      ]
    },
    {
      "cell_type": "code",
      "metadata": {
        "id": "Hwmd8nAbTpQ4",
        "colab_type": "code",
        "colab": {
          "base_uri": "https://localhost:8080/",
          "height": 799
        },
        "outputId": "9a93ab44-1102-4232-ecbd-8fce0577dfac"
      },
      "source": [
        "#Adding th data frame in the variable data\n",
        "data = pd.read_csv('lab4_ex3.csv')\n",
        "\n",
        "#Creating model\n",
        "model = ConcreteModel()\n",
        "\n",
        "#No. of variable in the model is N\n",
        "N = len(data['Drone Model'])\n",
        "\n",
        "#Creating Variables and objective\n",
        "model.x = Var(np.arange(N),domain=Integers)\n",
        "model.obj = Objective(expr= summation(data['Carrying Capacity(Kgs)'], model.x),sense=maximize)\n",
        "\n",
        "# Creating constrains and bounds\n",
        "\n",
        "model.cons = ConstraintList()\n",
        "model.cons.add(summation(data['Cost(in INR Crs)'],model.x) <= 29)\n",
        "model.cons.add(summation(data['Parking Space(sq.m.)'],model.x) <= 37)\n",
        "\n",
        "for i in np.arange(N):\n",
        "  model.x[i].setlb(0)\n",
        "\n",
        "model.pprint()\n",
        "\n",
        "\n",
        "cbc_solver = SolverFactory('cbc')\n",
        "result = cbc_solver.solve(model)\n",
        "\n",
        "print('\\n')\n",
        "\n",
        "\n",
        "print('Status : ', result.solver.Status)\n",
        "print('Terminating condition : ', result.solver.termination_condition)\n",
        "print('Message : ', result.solver.termination_message)\n",
        "\n",
        "print('\\n')\n",
        "\n",
        "print('The optimal value of the objective function is : ' , model.obj())\n",
        "print('\\n')\n",
        "\n",
        "print('The optimal value of the Variables are : \\n')\n",
        "\n",
        "for i in np.arange(N):\n",
        "  print('[x',i,'] : ',model.x[i].value)\n",
        "\n"
      ],
      "execution_count": 120,
      "outputs": [
        {
          "output_type": "stream",
          "text": [
            "2 Set Declarations\n",
            "    cons_index : Size=1, Index=None, Ordered=Insertion\n",
            "        Key  : Dimen : Domain : Size : Members\n",
            "        None :     1 :    Any :    2 : {1, 2}\n",
            "    x_index : Size=1, Index=None, Ordered=False\n",
            "        Key  : Dimen : Domain : Size : Members\n",
            "        None :     1 :    Any :    5 : {0, 1, 2, 3, 4}\n",
            "\n",
            "1 Var Declarations\n",
            "    x : Size=5, Index=x_index\n",
            "        Key : Lower : Value : Upper : Fixed : Stale : Domain\n",
            "          0 :     0 :  None :  None : False :  True : Integers\n",
            "          1 :     0 :  None :  None : False :  True : Integers\n",
            "          2 :     0 :  None :  None : False :  True : Integers\n",
            "          3 :     0 :  None :  None : False :  True : Integers\n",
            "          4 :     0 :  None :  None : False :  True : Integers\n",
            "\n",
            "1 Objective Declarations\n",
            "    obj : Size=1, Index=None, Active=True\n",
            "        Key  : Active : Sense    : Expression\n",
            "        None :   True : maximize : 15*x[0] + 10*x[1] + 20*x[2] + 10*x[3] + 15*x[4]\n",
            "\n",
            "1 Constraint Declarations\n",
            "    cons : Size=2, Index=cons_index, Active=True\n",
            "        Key : Lower : Body                                                   : Upper : Active\n",
            "          1 :  -Inf :   4.0*x[0] + 3.5*x[1] + 5.0*x[2] + 4.0*x[3] + 4.5*x[4] :  29.0 :   True\n",
            "          2 :  -Inf : 3.0*x[0] + 3.25*x[1] + 4.0*x[2] + 2.75*x[3] + 2.5*x[4] :  37.0 :   True\n",
            "\n",
            "5 Declarations: x_index x obj cons_index cons\n",
            "\n",
            "\n",
            "Status :  ok\n",
            "Terminating condition :  optimal\n",
            "Message :  Model was solved to optimality (subject to tolerances), and an optimal solution is available.\n",
            "\n",
            "\n",
            "The optimal value of the objective function is :  115.0\n",
            "\n",
            "\n",
            "The optimal value of the Variables are : \n",
            "\n",
            "[x 0 ] :  1.0\n",
            "[x 1 ] :  0.0\n",
            "[x 2 ] :  5.0\n",
            "[x 3 ] :  0.0\n",
            "[x 4 ] :  0.0\n"
          ],
          "name": "stdout"
        }
      ]
    },
    {
      "cell_type": "markdown",
      "metadata": {
        "id": "1Vluup-FIbWR",
        "colab_type": "text"
      },
      "source": [
        "# Ex3 Part 7-8\n",
        "\n",
        "In this part we will remove the restriction that the variables has to be integers and then solve the optimization problem. Our new mathematical problem looks like solving this :\n",
        "\n",
        "\\begin{array}{l}\n",
        "max\\ :\\ \\ \\ \\ \\ 15x_{0} +\\ 10x_{1} +20x_{2} +10x_{3} +15x_{4}\n",
        "\\\\\n",
        "st.\\ \\ \\ 4x_{0} +3.5x_{1} +5x_{2} +4x_{3} +4.5x_{4} \\ \\leqslant \\ 29\\\\\n",
        "\\ \\ \\ \\ \\ \\ \\ \\  3x_{0} +3.25x_{1} +4x_{2} +2.75x_{3} +2.5x_{4} \\ \\leqslant \\ 37\\\\\n",
        "\\ \\ \\ \\ \\ \\ \\ \\  x_{i} \\ \\geqslant 0\\ \n",
        "\\end{array}\n",
        "\n",
        "\n",
        "\n",
        "***REMARKS GIVEN BELOW***"
      ]
    },
    {
      "cell_type": "code",
      "metadata": {
        "id": "019BmBK8XAV3",
        "colab_type": "code",
        "colab": {
          "base_uri": "https://localhost:8080/",
          "height": 799
        },
        "outputId": "84f000f8-c9e8-4230-8f7a-e7c205de7a78"
      },
      "source": [
        "#Creating model\n",
        "model2 = ConcreteModel()\n",
        "\n",
        "#No. of variable in the model is N\n",
        "N = len(data['Drone Model'])\n",
        "\n",
        "#Creating Variables and objective\n",
        "model2.x = Var(np.arange(N))\n",
        "model2.obj = Objective(expr= summation(data['Carrying Capacity(Kgs)'], model2.x),sense=maximize)\n",
        "\n",
        "# Creating constrains and bounds\n",
        "\n",
        "model2.cons = ConstraintList()\n",
        "model2.cons.add(summation(data['Cost(in INR Crs)'],model2.x) <= 29)\n",
        "model2.cons.add(summation(data['Parking Space(sq.m.)'],model2.x) <= 37)\n",
        "\n",
        "for i in np.arange(N):\n",
        "  model2.x[i].setlb(0)\n",
        "\n",
        "model2.pprint()\n",
        "\n",
        "\n",
        "cbc_solver = SolverFactory('cbc')\n",
        "result2 = cbc_solver.solve(model2)\n",
        "\n",
        "print('\\n')\n",
        "\n",
        "\n",
        "print('Status : ', result2.solver.Status)\n",
        "print('Terminating condition : ', result2.solver.termination_condition)\n",
        "print('Message : ', result2.solver.termination_message)\n",
        "\n",
        "print('\\n')\n",
        "\n",
        "print('The optimal value of the objective function is : ' , model2.obj())\n",
        "print('\\n')\n",
        "\n",
        "print('The optimal value of the Variables are : \\n')\n",
        "\n",
        "for i in np.arange(N):\n",
        "  print('[x',i,'] : ',model2.x[i].value)\n",
        "\n",
        "\n"
      ],
      "execution_count": 121,
      "outputs": [
        {
          "output_type": "stream",
          "text": [
            "2 Set Declarations\n",
            "    cons_index : Size=1, Index=None, Ordered=Insertion\n",
            "        Key  : Dimen : Domain : Size : Members\n",
            "        None :     1 :    Any :    2 : {1, 2}\n",
            "    x_index : Size=1, Index=None, Ordered=False\n",
            "        Key  : Dimen : Domain : Size : Members\n",
            "        None :     1 :    Any :    5 : {0, 1, 2, 3, 4}\n",
            "\n",
            "1 Var Declarations\n",
            "    x : Size=5, Index=x_index\n",
            "        Key : Lower : Value : Upper : Fixed : Stale : Domain\n",
            "          0 :     0 :  None :  None : False :  True :  Reals\n",
            "          1 :     0 :  None :  None : False :  True :  Reals\n",
            "          2 :     0 :  None :  None : False :  True :  Reals\n",
            "          3 :     0 :  None :  None : False :  True :  Reals\n",
            "          4 :     0 :  None :  None : False :  True :  Reals\n",
            "\n",
            "1 Objective Declarations\n",
            "    obj : Size=1, Index=None, Active=True\n",
            "        Key  : Active : Sense    : Expression\n",
            "        None :   True : maximize : 15*x[0] + 10*x[1] + 20*x[2] + 10*x[3] + 15*x[4]\n",
            "\n",
            "1 Constraint Declarations\n",
            "    cons : Size=2, Index=cons_index, Active=True\n",
            "        Key : Lower : Body                                                   : Upper : Active\n",
            "          1 :  -Inf :   4.0*x[0] + 3.5*x[1] + 5.0*x[2] + 4.0*x[3] + 4.5*x[4] :  29.0 :   True\n",
            "          2 :  -Inf : 3.0*x[0] + 3.25*x[1] + 4.0*x[2] + 2.75*x[3] + 2.5*x[4] :  37.0 :   True\n",
            "\n",
            "5 Declarations: x_index x obj cons_index cons\n",
            "\n",
            "\n",
            "Status :  ok\n",
            "Terminating condition :  optimal\n",
            "Message :  Model was solved to optimality (subject to tolerances), and an optimal solution is available.\n",
            "\n",
            "\n",
            "The optimal value of the objective function is :  116.0\n",
            "\n",
            "\n",
            "The optimal value of the Variables are : \n",
            "\n",
            "[x 0 ] :  0.0\n",
            "[x 1 ] :  0.0\n",
            "[x 2 ] :  5.8\n",
            "[x 3 ] :  0.0\n",
            "[x 4 ] :  0.0\n"
          ],
          "name": "stdout"
        }
      ]
    },
    {
      "cell_type": "markdown",
      "metadata": {
        "id": "tubBfUhTLIyJ",
        "colab_type": "text"
      },
      "source": [
        "***Remarks***\n",
        "\n",
        "No the solution of the MILP cannot be obtained by just rounding of the answer of LP. In the LP we are getting the optimal value (Capacity) of 116 if we buy 5.8 units of 'SAAHAS' drone. If we round that value to 6 then our cost constraint is not satisfied ((6x5=30) is not <= 29). So just rounding of the solution is not the solution.\n",
        "\n",
        "Instead we have to look at methods. That is what MILP has actually done. We cand do one thing, since the capacity of the SAAHAS is the highest with highest cost. We can buy 5 of SAAHAS, then we will be left with a fund of 4Crs that can be spent to buy the drone with the most capacity. And also we are left with a parking space of 17sq.m. So the next drone we buy must be under 4Cr Rs and under 17 sq.m space. Thtats why we buy \"SANKLAP'.  Ans thats the solution of MILP"
      ]
    },
    {
      "cell_type": "markdown",
      "metadata": {
        "id": "BiOeS15vNmTI",
        "colab_type": "text"
      },
      "source": [
        "# Ex.3 Part 9\n",
        "\n",
        "Now the limit of the budget is increased to different value and the parking space is increased to different values. Now we will solve both the problems (MILP and LP) again to get the optimal values. \n",
        "\n",
        "\n",
        "***We will try putting each value in the model and see the results***\n",
        "\n",
        "\n",
        "\\begin{array}{l}\n",
        "\\\\\n",
        "Problem \\ \\ MILP \\ \\ (Model_{MILP}): \n",
        "\\\\\n",
        "\\\\\n",
        "max\\ :\\ \\ \\ \\ \\ 15x_{0} +\\ 10x_{1} +20x_{2} +10x_{3} +15x_{4}\n",
        "\\\\\n",
        "st.\\ \\ \\ 4x_{0} +3.5x_{1} +5x_{2} +4x_{3} +4.5x_{4} \\ \\leqslant \\ {41,39,37,35,33} \\\\\n",
        "\\ \\ \\ \\ \\ \\ \\ \\  3x_{0} +3.25x_{1} +4x_{2} +2.75x_{3} +2.5x_{4} \\ \\leqslant \\ {47, 49, 51, 53, 55}\\\\\n",
        "\\ \\ \\ \\ \\ \\ \\ \\  x_{i} \\in \\mathbb{N} \\cup \\{0\\} \\ \\ \n",
        "\\end{array}\n",
        "\n",
        "\n",
        "\n",
        "\n",
        "\\begin{array}{l}\n",
        "\\\\\n",
        "Problem \\ \\ LP \\ \\ (Model_{LP}):\n",
        "\\\\\n",
        "\\\\\n",
        "max\\ :\\ \\ \\ \\ \\ 15x_{0} +\\ 10x_{1} +20x_{2} +10x_{3} +15x_{4}\n",
        "\\\\\n",
        "st.\\ \\ \\ 4x_{0} +3.5x_{1} +5x_{2} +4x_{3} +4.5x_{4} \\ \\leqslant \\ {41,39,37,35,33}\\\\\n",
        "\\ \\ \\ \\ \\ \\ \\ \\  3x_{0} +3.25x_{1} +4x_{2} +2.75x_{3} +2.5x_{4} \\ \\leqslant \\ {47, 49, 51, 53, 55}\\\\\n",
        "\\ \\ \\ \\ \\ \\ \\ \\  x_{i} \\ \\geqslant 0\\ \n",
        "\\end{array}\n",
        "\n",
        "\n",
        "***Remarks below***\n"
      ]
    },
    {
      "cell_type": "code",
      "metadata": {
        "id": "ESkZxbeKPaUS",
        "colab_type": "code",
        "colab": {
          "base_uri": "https://localhost:8080/",
          "height": 238
        },
        "outputId": "be138e68-ae71-4831-a2db-4b29ba9d5098"
      },
      "source": [
        "#Creating the array for budget and parking space constraints\n",
        "new_rhs = np.array([\n",
        "                    [41,39,37,35,33],\n",
        "                    [47,49,51,53,55]\n",
        "                  ])\n",
        "\n",
        "#Initialising an dictionary for DataFrame\n",
        "dic_optimals_LP_MILP = {'(Budget, Parking Space)' : ['(41,47)', '(39,49)','(37,51)','(35,53)','(37,55)'] ,'MILP' : [], 'LP':[]}\n",
        "\n",
        "\n",
        "#Initialising a model for MILP and LP\n",
        "model_MILP = model.clone()\n",
        "model_LP = model2.clone()\n",
        "\n",
        "\n",
        "for i in range(new_rhs.shape[1]):\n",
        "\n",
        "  model_MILP.cons.clear()                #Clearing previous constrainsts\n",
        "\n",
        "  #Addind new constrainsts from the array\n",
        "  model_MILP.cons.add(summation(data['Cost(in INR Crs)'],model_MILP.x) <= new_rhs[0,i])       \n",
        "  model_MILP.cons.add(summation(data['Parking Space(sq.m.)'],model_MILP.x) <= new_rhs[1,i])\n",
        "\n",
        "  #Solving the model and printing the optimal value\n",
        "  solver_MILP = SolverFactory('cbc')\n",
        "  result_MILP = solver_MILP.solve(model_MILP)\n",
        "  #print('Optimal value for MILP with budget',new_rhs[0,i],' and with parking space ',new_rhs[1,i],' is : ' , model_MILP.obj())\n",
        "\n",
        "  #Appending the value in the list of dictionary\n",
        "  dic_optimals_LP_MILP['MILP'].append(model_MILP.obj())\n",
        "\n",
        "  \n",
        "  #Repeating everything for LP\n",
        "\n",
        "  model_LP.cons.clear()                #Clearing previous constrainsts\n",
        "\n",
        "  #Addind new constrainsts from the array\n",
        "  model_LP.cons.add(summation(data['Cost(in INR Crs)'],model_LP.x) <= new_rhs[0,i])       \n",
        "  model_LP.cons.add(summation(data['Parking Space(sq.m.)'],model_LP.x) <= new_rhs[1,i])\n",
        "\n",
        "  #Solving the model and printing the optimal value\n",
        "  solver_LP = SolverFactory('cbc')\n",
        "  result_LP = solver_LP.solve(model_LP)\n",
        "  #print('Optimal value for LP with budget',new_rhs[0,i],' and with parking space ',new_rhs[1,i],' is : ' , model_LP.obj())\n",
        "\n",
        "  #Appending the value in the list of dictionary\n",
        "  dic_optimals_LP_MILP['LP'].append(model_LP.obj())\n",
        "\n",
        "print('\\n')\n",
        "df_optimals = pd.DataFrame(dic_optimals_LP_MILP)\n",
        "df_optimals\n",
        "\n"
      ],
      "execution_count": 122,
      "outputs": [
        {
          "output_type": "stream",
          "text": [
            "\n",
            "\n"
          ],
          "name": "stdout"
        },
        {
          "output_type": "execute_result",
          "data": {
            "text/html": [
              "<div>\n",
              "<style scoped>\n",
              "    .dataframe tbody tr th:only-of-type {\n",
              "        vertical-align: middle;\n",
              "    }\n",
              "\n",
              "    .dataframe tbody tr th {\n",
              "        vertical-align: top;\n",
              "    }\n",
              "\n",
              "    .dataframe thead th {\n",
              "        text-align: right;\n",
              "    }\n",
              "</style>\n",
              "<table border=\"1\" class=\"dataframe\">\n",
              "  <thead>\n",
              "    <tr style=\"text-align: right;\">\n",
              "      <th></th>\n",
              "      <th>(Budget, Parking Space)</th>\n",
              "      <th>MILP</th>\n",
              "      <th>LP</th>\n",
              "    </tr>\n",
              "  </thead>\n",
              "  <tbody>\n",
              "    <tr>\n",
              "      <th>0</th>\n",
              "      <td>(41,47)</td>\n",
              "      <td>160.0</td>\n",
              "      <td>164.0</td>\n",
              "    </tr>\n",
              "    <tr>\n",
              "      <th>1</th>\n",
              "      <td>(39,49)</td>\n",
              "      <td>155.0</td>\n",
              "      <td>156.0</td>\n",
              "    </tr>\n",
              "    <tr>\n",
              "      <th>2</th>\n",
              "      <td>(37,51)</td>\n",
              "      <td>145.0</td>\n",
              "      <td>148.0</td>\n",
              "    </tr>\n",
              "    <tr>\n",
              "      <th>3</th>\n",
              "      <td>(35,53)</td>\n",
              "      <td>140.0</td>\n",
              "      <td>140.0</td>\n",
              "    </tr>\n",
              "    <tr>\n",
              "      <th>4</th>\n",
              "      <td>(37,55)</td>\n",
              "      <td>130.0</td>\n",
              "      <td>132.0</td>\n",
              "    </tr>\n",
              "  </tbody>\n",
              "</table>\n",
              "</div>"
            ],
            "text/plain": [
              "  (Budget, Parking Space)   MILP     LP\n",
              "0                 (41,47)  160.0  164.0\n",
              "1                 (39,49)  155.0  156.0\n",
              "2                 (37,51)  145.0  148.0\n",
              "3                 (35,53)  140.0  140.0\n",
              "4                 (37,55)  130.0  132.0"
            ]
          },
          "metadata": {
            "tags": []
          },
          "execution_count": 122
        }
      ]
    },
    {
      "cell_type": "markdown",
      "metadata": {
        "id": "Ogbs_LzNlGt8",
        "colab_type": "text"
      },
      "source": [
        "***Remarks***\n",
        "\n",
        "Oservations and reasons\n",
        "\n",
        "1.   We observe that as we decrease the budget of the drones the Optimal value i.e the carraying cpaacity also decreases regardless of which model we use.\n",
        "2.   Also since we are decreasing the budget and increasing the parking space, it does not make sense beacause we cannot buy the drones so,  the extra parking space is not needed.\n",
        "3. Also the optimal value for both the model is same at (35,53).\n",
        "\n",
        "\n",
        "\n"
      ]
    },
    {
      "cell_type": "code",
      "metadata": {
        "id": "4xPXemCGdA-d",
        "colab_type": "code",
        "colab": {}
      },
      "source": [
        ""
      ],
      "execution_count": 122,
      "outputs": []
    },
    {
      "cell_type": "code",
      "metadata": {
        "id": "K-FFo3ustmhw",
        "colab_type": "code",
        "colab": {}
      },
      "source": [
        ""
      ],
      "execution_count": 122,
      "outputs": []
    }
  ]
}