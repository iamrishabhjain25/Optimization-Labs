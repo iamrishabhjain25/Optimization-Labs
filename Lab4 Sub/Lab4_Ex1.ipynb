{
  "nbformat": 4,
  "nbformat_minor": 0,
  "metadata": {
    "colab": {
      "name": "20i190008_IE507_Lab4_Ex1.ipynb",
      "provenance": [],
      "collapsed_sections": [
        "O2THiBtw_VWn",
        "Wqu9zWIRZaYS"
      ]
    },
    "kernelspec": {
      "name": "python3",
      "display_name": "Python 3"
    }
  },
  "cells": [
    {
      "cell_type": "markdown",
      "metadata": {
        "id": "O2THiBtw_VWn",
        "colab_type": "text"
      },
      "source": [
        "# **Installing packages and importing libraries**"
      ]
    },
    {
      "cell_type": "code",
      "metadata": {
        "id": "P-Gtr9UN7JxB",
        "colab_type": "code",
        "colab": {}
      },
      "source": [
        "\n",
        "!pip install -q pyomo\n",
        "from pyomo.environ import *\n",
        "import numpy as np\n",
        "import pandas as pd\n",
        "\n",
        "!apt-get install -y -qq glpk-utils\n",
        "\n",
        "!apt-get install -y -qq coinor-cbc\n",
        "\n"
      ],
      "execution_count": null,
      "outputs": []
    },
    {
      "cell_type": "markdown",
      "metadata": {
        "id": "YmN5841xNFC1",
        "colab_type": "text"
      },
      "source": [
        "# Ex1 : Part 1 to 7, Model and solver\n",
        "\n",
        "Our goal is to solve the following optimisation problem. for that we will make a text file for the coeffients and use it to solve the problem. \n",
        "\n",
        "\n",
        "\n",
        " \\begin{array}{l}\n",
        "max\\ \\ \\ -0.5x_{1} \\ −\\ 1.25x_{2} \\ −\\ 5x_{3} \\ \\ +\\ 3x_{4} \\ +\\ 10x_{5} \\ \\ +\\ 25x_{6} \\ \\\\\n",
        "\\\\\n",
        "s.t\\ \\ \\ \\ \\ 0.8x_{1} \\ -1.3x_{2} \\ -x_{4} \\ \\leqslant \\ 12\\\\\n",
        "x_{2} \\ -\\ x_{3} -x_{5} \\ \\leqslant \\ 0.6\\\\\n",
        "x_{3} -x_{6\\ } \\leqslant \\ 1.2\\\\\n",
        "0.5x_{1} +0.8x_{2} \\ +4x_{3} \\ \\leqslant \\ 45\\\\\n",
        "0.9x_{1} +1.5x_{2} \\ \\ \\leqslant \\ 27\\\\\n",
        "\\\\\n",
        "xi\\ \\geq \\ 0\\ \\forall i\\ \\in \\ \\{1,\\ 2,\\ .\\ .\\ .\\ ,\\ 5\\} .\\ \n",
        "\\end{array}\n"
      ]
    },
    {
      "cell_type": "code",
      "metadata": {
        "id": "gwch5j0gO5w9",
        "colab_type": "code",
        "colab": {
          "base_uri": "https://localhost:8080/",
          "height": 1000
        },
        "outputId": "777b5a44-8100-4e25-a48e-76c172dde48b"
      },
      "source": [
        "# Creating model\n",
        "model = ConcreteModel()\n",
        "\n",
        "#importing the txt file of coefficients\n",
        "coeff = np.loadtxt('lab4_ex1_coef.txt', delimiter=',')\n",
        "\n",
        "\n",
        "# Numbers of variable N, and number of constraints M\n",
        "N = coeff.shape[1] - 1\n",
        "M = coeff.shape[0] -1\n",
        "\n",
        "\n",
        "col_index = np.arange(N)\n",
        "row_index = np.arange(M)\n",
        "\n",
        "#Coefficients of constraints matrix with rhs\n",
        "coeff_cons_with_rhs = coeff[1:,:]\n",
        "\n",
        "\n",
        "\n",
        "# creating variables and their type as binary\n",
        "model.x = Var(col_index)\n",
        "\n",
        "\n",
        "# Initialising list of constraints\n",
        "model.cons = ConstraintList()\n",
        "\n",
        "# Model objective\n",
        "model.obj = Objective(expr = summation(coeff[0,:-1],model.x), sense = maximize)\n",
        "\n",
        "#Adding constraits and bounds\n",
        "\n",
        "for i in row_index:\n",
        "  model.cons.add(summation(coeff_cons_with_rhs[i,:-1],model.x) <= coeff_cons_with_rhs[i,-1])\n",
        "\n",
        "\n",
        "for i in col_index: \n",
        "  model.x[i].setlb(0)\n",
        "\n",
        "#Printing the model\n",
        "\n",
        "model.pprint()\n",
        "\n",
        "# Solving the model with cbc solver\n",
        "cbc_solver = SolverFactory('cbc')\n",
        "result = cbc_solver.solve(model)\n",
        "\n",
        "print(result)\n",
        "# Printing result\n",
        "print('\\n')\n",
        "print('\\n')\n",
        "\n",
        "print('Status : ', result.solver.Status)\n",
        "print('Terminating condition : ', result.solver.termination_condition)\n",
        "print('Message : ', result.solver.termination_message)\n",
        "print('\\n')\n",
        "\n"
      ],
      "execution_count": null,
      "outputs": [
        {
          "output_type": "stream",
          "text": [
            "2 Set Declarations\n",
            "    cons_index : Size=1, Index=None, Ordered=Insertion\n",
            "        Key  : Dimen : Domain : Size : Members\n",
            "        None :     1 :    Any :    5 : {1, 2, 3, 4, 5}\n",
            "    x_index : Size=1, Index=None, Ordered=False\n",
            "        Key  : Dimen : Domain : Size : Members\n",
            "        None :     1 :    Any :    6 : {0, 1, 2, 3, 4, 5}\n",
            "\n",
            "1 Var Declarations\n",
            "    x : Size=6, Index=x_index\n",
            "        Key : Lower : Value : Upper : Fixed : Stale : Domain\n",
            "          0 :     0 :  None :  None : False :  True :  Reals\n",
            "          1 :     0 :  None :  None : False :  True :  Reals\n",
            "          2 :     0 :  None :  None : False :  True :  Reals\n",
            "          3 :     0 :  None :  None : False :  True :  Reals\n",
            "          4 :     0 :  None :  None : False :  True :  Reals\n",
            "          5 :     0 :  None :  None : False :  True :  Reals\n",
            "\n",
            "1 Objective Declarations\n",
            "    obj : Size=1, Index=None, Active=True\n",
            "        Key  : Active : Sense    : Expression\n",
            "        None :   True : maximize : - 0.5*x[0] - 1.25*x[1] - 5.0*x[2] + 3.0*x[3] + 10.0*x[4] + 25.0*x[5]\n",
            "\n",
            "1 Constraint Declarations\n",
            "    cons : Size=5, Index=cons_index, Active=True\n",
            "        Key : Lower : Body                           : Upper : Active\n",
            "          1 :  -Inf :     0.8*x[0] - 1.3*x[1] - x[3] :  12.0 :   True\n",
            "          2 :  -Inf :             x[1] - x[2] - x[4] :   0.6 :   True\n",
            "          3 :  -Inf :                    x[2] - x[5] :   1.2 :   True\n",
            "          4 :  -Inf : 0.5*x[0] + 0.8*x[1] + 4.0*x[2] :  45.0 :   True\n",
            "          5 :  -Inf :            0.9*x[0] + 1.5*x[1] :  27.0 :   True\n",
            "\n",
            "5 Declarations: x_index x cons_index cons obj\n",
            "WARNING: Loading a SolverResults object with a warning status into\n",
            "    model=unknown;\n",
            "        message from solver=<undefined>\n",
            "\n",
            "Problem: \n",
            "- Name: unknown\n",
            "  Lower bound: -inf\n",
            "  Upper bound: None\n",
            "  Number of objectives: 1\n",
            "  Number of constraints: 6\n",
            "  Number of variables: 7\n",
            "  Number of nonzeros: 6\n",
            "  Sense: maximize\n",
            "Solver: \n",
            "- Status: warning\n",
            "  User time: -1.0\n",
            "  System time: 0.0\n",
            "  Wallclock time: 0.0\n",
            "  Termination condition: unbounded\n",
            "  Termination message: Model was proven to be unbounded.\n",
            "  Statistics: \n",
            "    Branch and bound: \n",
            "      Number of bounded subproblems: 0\n",
            "      Number of created subproblems: 0\n",
            "    Black box: \n",
            "      Number of iterations: 0\n",
            "  Error rc: 0\n",
            "  Time: 0.0327455997467041\n",
            "\n",
            "\n",
            "\n",
            "\n",
            "\n",
            "Status :  warning\n",
            "Terminating condition :  unbounded\n",
            "Message :  Model was proven to be unbounded.\n",
            "\n",
            "\n"
          ],
          "name": "stdout"
        }
      ]
    },
    {
      "cell_type": "markdown",
      "metadata": {
        "id": "Wqu9zWIRZaYS",
        "colab_type": "text"
      },
      "source": [
        "# Ex1 : Part 8 , 9\n",
        "\n",
        "***Devising a remedy and solving again.***\n",
        "\n",
        "Now since in the previous part we saw that the problem is unbounded. The reason the solution is unbounded because the region is not bounded above for the maximising problem i.e we will keep on getting the optimal value and there will always be more optimal value than that. \n",
        "\n",
        "\n",
        "Thats why we try this problem with minimising the problem. In that case we will find the solution and the values are printed below.\n"
      ]
    },
    {
      "cell_type": "code",
      "metadata": {
        "id": "hUj73zZnU28v",
        "colab_type": "code",
        "colab": {
          "base_uri": "https://localhost:8080/"
        },
        "outputId": "78f48f1e-808b-4dcd-d9c7-fe7b4067ce93"
      },
      "source": [
        "model.obj.set_sense(minimize)\n",
        "\n",
        "\n",
        "# Solving the model with cbc solver\n",
        "cbc_solver = SolverFactory('cbc')\n",
        "result = cbc_solver.solve(model)\n",
        "\n",
        "\n",
        "\n",
        "\n",
        "print('Status : ', result.solver.Status)\n",
        "print('Terminating condition : ', result.solver.termination_condition)\n",
        "print('Message : ', result.solver.termination_message)\n",
        "print('The optimal value of the objective function is : ', model.obj())\n",
        "print('\\n')\n",
        "\n",
        "print('The value of the variables are : ')\n",
        "for i in col_index:\n",
        "  print('x[',i,'] : ', model.x[i].value)\n",
        "print('\\n')\n",
        "\n",
        "print('And the value of the constraints are')\n",
        "\n",
        "model.cons.display()\n",
        "\n"
      ],
      "execution_count": null,
      "outputs": [
        {
          "output_type": "stream",
          "text": [
            "Status :  ok\n",
            "Terminating condition :  optimal\n",
            "Message :  Model was solved to optimality (subject to tolerances), and an optimal solution is available.\n",
            "The optimal value of the objective function is :  -17.2125\n",
            "\n",
            "\n",
            "The value of the variables are : \n",
            "x[ 0 ] :  17.925\n",
            "x[ 1 ] :  1.8\n",
            "x[ 2 ] :  1.2\n",
            "x[ 3 ] :  0.0\n",
            "x[ 4 ] :  0.0\n",
            "x[ 5 ] :  0.0\n",
            "\n",
            "\n",
            "And the value of the constraints are\n",
            "cons : Size=5\n",
            "    Key : Lower : Body               : Upper\n",
            "      1 :  None : 12.000000000000002 :  12.0\n",
            "      2 :  None : 0.6000000000000001 :   0.6\n",
            "      3 :  None :                1.2 :   1.2\n",
            "      4 :  None :            15.2025 :  45.0\n",
            "      5 :  None :            18.8325 :  27.0\n"
          ],
          "name": "stdout"
        }
      ]
    },
    {
      "cell_type": "code",
      "metadata": {
        "id": "dlq5IiOTaZKD",
        "colab_type": "code",
        "colab": {}
      },
      "source": [
        ""
      ],
      "execution_count": null,
      "outputs": []
    }
  ]
}